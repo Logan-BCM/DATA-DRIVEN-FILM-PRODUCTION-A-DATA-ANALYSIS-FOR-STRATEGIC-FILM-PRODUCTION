{
 "cells": [
  {
   "cell_type": "markdown",
   "metadata": {},
   "source": [
    "\n",
    "<img src=\"./image1.jpeg\" alt=\"box office Image\" style=\"width:11500px;height:400px;\">\n"
   ]
  },
  {
   "cell_type": "markdown",
   "metadata": {},
   "source": [
    "# DATA DRIVEN FILM PRODUCTION: A DATA ANALYSIS FOR STRATEGIC FILM PRODUCTION\n",
    "\n",
    "**Authors :** SIMON WAMAI, VENESER PAMELAH, PRECIOUS KALIA, LYDIAH MUTANU, LOGAN KIMATHI, JANE NJUGUNA"
   ]
  },
  {
   "cell_type": "markdown",
   "metadata": {},
   "source": [
    "## OVERVIEW\n",
    "***"
   ]
  },
  {
   "cell_type": "markdown",
   "metadata": {},
   "source": [
    "Our project contains an analysis of current trends in the film industry to inform the development strategy for a new movie studio. Using box office data from different sources, we will analyze different trends that affect a movies box office performance."
   ]
  },
  {
   "cell_type": "markdown",
   "metadata": {},
   "source": [
    "## BUSINESS PROBLEM\n",
    "***\n"
   ]
  },
  {
   "cell_type": "markdown",
   "metadata": {},
   "source": [
    "<img src=\"./image2.jpeg\" alt=\"Plane Image\" style=\"width:1150px;height:410px;\">\n",
    "\n",
    "Our company is launching a new movie studio, but with limited experience in the film industry. We need a clear understanding of what drives box office success in order to compete effectively. We must analyze current trends and uncover which genres, story themes, production elements, and audience segments consistently lead to high-grossing films. By tapping into data from top-performing movies, we can develop a strategic production plan that targets popular content, reduces financial risk, and gives our studio a strong competitive foothold in the entertainment market."
   ]
  },
  {
   "cell_type": "markdown",
   "metadata": {},
   "source": [
    "## DATA UNDERSTANDING\n",
    "***"
   ]
  },
  {
   "cell_type": "markdown",
   "metadata": {},
   "source": [
    "The movie datasets used in this analysis are sourced from:\n",
    " * [Box Office Mojo](https://www.boxofficemojo.com/)\n",
    " * [IMDB](https://www.imdb.com/)\n",
    " * [Rotten Tomatoes](https://www.rottentomatoes.com/)\n",
    " * [TheMovieDB](https://www.themoviedb.org/)\n",
    " * [The Numbers](https://www.the-numbers.com/)"
   ]
  },
  {
   "cell_type": "markdown",
   "metadata": {},
   "source": [
    "# DATA INSPECTION\n",
    "***"
   ]
  },
  {
   "cell_type": "markdown",
   "metadata": {},
   "source": [
    "Let's import the popular data science libraries that we will use."
   ]
  },
  {
   "cell_type": "code",
   "execution_count": 1,
   "metadata": {},
   "outputs": [],
   "source": [
    "import pandas as pd, numpy as np\n",
    "import sqlite3\n",
    "import matplotlib.pyplot as plt\n",
    "import seaborn as sns\n",
    "from sklearn.model_selection import train_test_split\n",
    "from sklearn.linear_model import LinearRegression\n",
    "from sklearn import metrics\n",
    "%matplotlib inline"
   ]
  },
  {
   "cell_type": "markdown",
   "metadata": {},
   "source": [
    "Let's begin by taking a look at the data from **Rotten Tomatoes**, a critic reviews website."
   ]
  },
  {
   "cell_type": "code",
   "execution_count": 2,
   "metadata": {},
   "outputs": [
    {
     "data": {
      "text/html": [
       "<div>\n",
       "<style scoped>\n",
       "    .dataframe tbody tr th:only-of-type {\n",
       "        vertical-align: middle;\n",
       "    }\n",
       "\n",
       "    .dataframe tbody tr th {\n",
       "        vertical-align: top;\n",
       "    }\n",
       "\n",
       "    .dataframe thead th {\n",
       "        text-align: right;\n",
       "    }\n",
       "</style>\n",
       "<table border=\"1\" class=\"dataframe\">\n",
       "  <thead>\n",
       "    <tr style=\"text-align: right;\">\n",
       "      <th></th>\n",
       "      <th>id</th>\n",
       "      <th>synopsis</th>\n",
       "      <th>rating</th>\n",
       "      <th>genre</th>\n",
       "      <th>director</th>\n",
       "      <th>writer</th>\n",
       "      <th>theater_date</th>\n",
       "      <th>dvd_date</th>\n",
       "      <th>currency</th>\n",
       "      <th>box_office</th>\n",
       "      <th>runtime</th>\n",
       "      <th>studio</th>\n",
       "    </tr>\n",
       "  </thead>\n",
       "  <tbody>\n",
       "    <tr>\n",
       "      <th>0</th>\n",
       "      <td>1</td>\n",
       "      <td>This gritty, fast-paced, and innovative police...</td>\n",
       "      <td>R</td>\n",
       "      <td>Action and Adventure|Classics|Drama</td>\n",
       "      <td>William Friedkin</td>\n",
       "      <td>Ernest Tidyman</td>\n",
       "      <td>Oct 9, 1971</td>\n",
       "      <td>Sep 25, 2001</td>\n",
       "      <td>NaN</td>\n",
       "      <td>NaN</td>\n",
       "      <td>104 minutes</td>\n",
       "      <td>NaN</td>\n",
       "    </tr>\n",
       "    <tr>\n",
       "      <th>1</th>\n",
       "      <td>3</td>\n",
       "      <td>New York City, not-too-distant-future: Eric Pa...</td>\n",
       "      <td>R</td>\n",
       "      <td>Drama|Science Fiction and Fantasy</td>\n",
       "      <td>David Cronenberg</td>\n",
       "      <td>David Cronenberg|Don DeLillo</td>\n",
       "      <td>Aug 17, 2012</td>\n",
       "      <td>Jan 1, 2013</td>\n",
       "      <td>$</td>\n",
       "      <td>600,000</td>\n",
       "      <td>108 minutes</td>\n",
       "      <td>Entertainment One</td>\n",
       "    </tr>\n",
       "    <tr>\n",
       "      <th>2</th>\n",
       "      <td>5</td>\n",
       "      <td>Illeana Douglas delivers a superb performance ...</td>\n",
       "      <td>R</td>\n",
       "      <td>Drama|Musical and Performing Arts</td>\n",
       "      <td>Allison Anders</td>\n",
       "      <td>Allison Anders</td>\n",
       "      <td>Sep 13, 1996</td>\n",
       "      <td>Apr 18, 2000</td>\n",
       "      <td>NaN</td>\n",
       "      <td>NaN</td>\n",
       "      <td>116 minutes</td>\n",
       "      <td>NaN</td>\n",
       "    </tr>\n",
       "    <tr>\n",
       "      <th>3</th>\n",
       "      <td>6</td>\n",
       "      <td>Michael Douglas runs afoul of a treacherous su...</td>\n",
       "      <td>R</td>\n",
       "      <td>Drama|Mystery and Suspense</td>\n",
       "      <td>Barry Levinson</td>\n",
       "      <td>Paul Attanasio|Michael Crichton</td>\n",
       "      <td>Dec 9, 1994</td>\n",
       "      <td>Aug 27, 1997</td>\n",
       "      <td>NaN</td>\n",
       "      <td>NaN</td>\n",
       "      <td>128 minutes</td>\n",
       "      <td>NaN</td>\n",
       "    </tr>\n",
       "    <tr>\n",
       "      <th>4</th>\n",
       "      <td>7</td>\n",
       "      <td>NaN</td>\n",
       "      <td>NR</td>\n",
       "      <td>Drama|Romance</td>\n",
       "      <td>Rodney Bennett</td>\n",
       "      <td>Giles Cooper</td>\n",
       "      <td>NaN</td>\n",
       "      <td>NaN</td>\n",
       "      <td>NaN</td>\n",
       "      <td>NaN</td>\n",
       "      <td>200 minutes</td>\n",
       "      <td>NaN</td>\n",
       "    </tr>\n",
       "  </tbody>\n",
       "</table>\n",
       "</div>"
      ],
      "text/plain": [
       "   id                                           synopsis rating  \\\n",
       "0   1  This gritty, fast-paced, and innovative police...      R   \n",
       "1   3  New York City, not-too-distant-future: Eric Pa...      R   \n",
       "2   5  Illeana Douglas delivers a superb performance ...      R   \n",
       "3   6  Michael Douglas runs afoul of a treacherous su...      R   \n",
       "4   7                                                NaN     NR   \n",
       "\n",
       "                                 genre          director  \\\n",
       "0  Action and Adventure|Classics|Drama  William Friedkin   \n",
       "1    Drama|Science Fiction and Fantasy  David Cronenberg   \n",
       "2    Drama|Musical and Performing Arts    Allison Anders   \n",
       "3           Drama|Mystery and Suspense    Barry Levinson   \n",
       "4                        Drama|Romance    Rodney Bennett   \n",
       "\n",
       "                            writer  theater_date      dvd_date currency  \\\n",
       "0                   Ernest Tidyman   Oct 9, 1971  Sep 25, 2001      NaN   \n",
       "1     David Cronenberg|Don DeLillo  Aug 17, 2012   Jan 1, 2013        $   \n",
       "2                   Allison Anders  Sep 13, 1996  Apr 18, 2000      NaN   \n",
       "3  Paul Attanasio|Michael Crichton   Dec 9, 1994  Aug 27, 1997      NaN   \n",
       "4                     Giles Cooper           NaN           NaN      NaN   \n",
       "\n",
       "  box_office      runtime             studio  \n",
       "0        NaN  104 minutes                NaN  \n",
       "1    600,000  108 minutes  Entertainment One  \n",
       "2        NaN  116 minutes                NaN  \n",
       "3        NaN  128 minutes                NaN  \n",
       "4        NaN  200 minutes                NaN  "
      ]
     },
     "execution_count": 2,
     "metadata": {},
     "output_type": "execute_result"
    }
   ],
   "source": [
    "df_rt_movie_info = pd.read_csv(\"zippedData\\\\rt.movie_info.tsv\\\\rt.movie_info.tsv\", delimiter=\"\\t\") #opening the rotten tomatoes movies information table\n",
    "df_rt_movie_info.head()"
   ]
  },
  {
   "cell_type": "markdown",
   "metadata": {},
   "source": [
    "Each record in this table is a description of a single movie.In the context of this study, the  **Rating**, **Genre**, **Director**, **Runtime** and **Theatre_date** might be useful."
   ]
  },
  {
   "cell_type": "code",
   "execution_count": 3,
   "metadata": {},
   "outputs": [
    {
     "data": {
      "text/html": [
       "<div>\n",
       "<style scoped>\n",
       "    .dataframe tbody tr th:only-of-type {\n",
       "        vertical-align: middle;\n",
       "    }\n",
       "\n",
       "    .dataframe tbody tr th {\n",
       "        vertical-align: top;\n",
       "    }\n",
       "\n",
       "    .dataframe thead th {\n",
       "        text-align: right;\n",
       "    }\n",
       "</style>\n",
       "<table border=\"1\" class=\"dataframe\">\n",
       "  <thead>\n",
       "    <tr style=\"text-align: right;\">\n",
       "      <th></th>\n",
       "      <th>id</th>\n",
       "      <th>review</th>\n",
       "      <th>rating</th>\n",
       "      <th>fresh</th>\n",
       "      <th>critic</th>\n",
       "      <th>top_critic</th>\n",
       "      <th>publisher</th>\n",
       "      <th>date</th>\n",
       "    </tr>\n",
       "  </thead>\n",
       "  <tbody>\n",
       "    <tr>\n",
       "      <th>0</th>\n",
       "      <td>3</td>\n",
       "      <td>A distinctly gallows take on contemporary fina...</td>\n",
       "      <td>3/5</td>\n",
       "      <td>fresh</td>\n",
       "      <td>PJ Nabarro</td>\n",
       "      <td>0</td>\n",
       "      <td>Patrick Nabarro</td>\n",
       "      <td>November 10, 2018</td>\n",
       "    </tr>\n",
       "    <tr>\n",
       "      <th>1</th>\n",
       "      <td>3</td>\n",
       "      <td>It's an allegory in search of a meaning that n...</td>\n",
       "      <td>NaN</td>\n",
       "      <td>rotten</td>\n",
       "      <td>Annalee Newitz</td>\n",
       "      <td>0</td>\n",
       "      <td>io9.com</td>\n",
       "      <td>May 23, 2018</td>\n",
       "    </tr>\n",
       "    <tr>\n",
       "      <th>2</th>\n",
       "      <td>3</td>\n",
       "      <td>... life lived in a bubble in financial dealin...</td>\n",
       "      <td>NaN</td>\n",
       "      <td>fresh</td>\n",
       "      <td>Sean Axmaker</td>\n",
       "      <td>0</td>\n",
       "      <td>Stream on Demand</td>\n",
       "      <td>January 4, 2018</td>\n",
       "    </tr>\n",
       "    <tr>\n",
       "      <th>3</th>\n",
       "      <td>3</td>\n",
       "      <td>Continuing along a line introduced in last yea...</td>\n",
       "      <td>NaN</td>\n",
       "      <td>fresh</td>\n",
       "      <td>Daniel Kasman</td>\n",
       "      <td>0</td>\n",
       "      <td>MUBI</td>\n",
       "      <td>November 16, 2017</td>\n",
       "    </tr>\n",
       "    <tr>\n",
       "      <th>4</th>\n",
       "      <td>3</td>\n",
       "      <td>... a perverse twist on neorealism...</td>\n",
       "      <td>NaN</td>\n",
       "      <td>fresh</td>\n",
       "      <td>NaN</td>\n",
       "      <td>0</td>\n",
       "      <td>Cinema Scope</td>\n",
       "      <td>October 12, 2017</td>\n",
       "    </tr>\n",
       "  </tbody>\n",
       "</table>\n",
       "</div>"
      ],
      "text/plain": [
       "   id                                             review rating   fresh  \\\n",
       "0   3  A distinctly gallows take on contemporary fina...    3/5   fresh   \n",
       "1   3  It's an allegory in search of a meaning that n...    NaN  rotten   \n",
       "2   3  ... life lived in a bubble in financial dealin...    NaN   fresh   \n",
       "3   3  Continuing along a line introduced in last yea...    NaN   fresh   \n",
       "4   3             ... a perverse twist on neorealism...     NaN   fresh   \n",
       "\n",
       "           critic  top_critic         publisher               date  \n",
       "0      PJ Nabarro           0   Patrick Nabarro  November 10, 2018  \n",
       "1  Annalee Newitz           0           io9.com       May 23, 2018  \n",
       "2    Sean Axmaker           0  Stream on Demand    January 4, 2018  \n",
       "3   Daniel Kasman           0              MUBI  November 16, 2017  \n",
       "4             NaN           0      Cinema Scope   October 12, 2017  "
      ]
     },
     "execution_count": 3,
     "metadata": {},
     "output_type": "execute_result"
    }
   ],
   "source": [
    "df_rt_reviews =pd.read_csv(\"zippedData\\\\rt.reviews.tsv\\\\rt.reviews.tsv\", delimiter=\"\\t\", encoding=\"latin-1\") # opening the rotten tomatoes reviews table\n",
    "df_rt_reviews.head()"
   ]
  },
  {
   "cell_type": "markdown",
   "metadata": {},
   "source": [
    "The reviews.tsv table gives a representation of the written reviews, the review rating and fresh score. "
   ]
  },
  {
   "cell_type": "markdown",
   "metadata": {},
   "source": [
    "Next let's look at the **IMDB database**."
   ]
  },
  {
   "cell_type": "code",
   "execution_count": 4,
   "metadata": {},
   "outputs": [],
   "source": [
    "# creating a connection of the  imdb database to Sqlite3\n",
    "conn = sqlite3.connect(\"zippedData\\\\im.db\\\\im.db\")\n",
    "cur = conn.cursor()"
   ]
  },
  {
   "cell_type": "code",
   "execution_count": 5,
   "metadata": {},
   "outputs": [
    {
     "data": {
      "text/html": [
       "<div>\n",
       "<style scoped>\n",
       "    .dataframe tbody tr th:only-of-type {\n",
       "        vertical-align: middle;\n",
       "    }\n",
       "\n",
       "    .dataframe tbody tr th {\n",
       "        vertical-align: top;\n",
       "    }\n",
       "\n",
       "    .dataframe thead th {\n",
       "        text-align: right;\n",
       "    }\n",
       "</style>\n",
       "<table border=\"1\" class=\"dataframe\">\n",
       "  <thead>\n",
       "    <tr style=\"text-align: right;\">\n",
       "      <th></th>\n",
       "      <th>name</th>\n",
       "    </tr>\n",
       "  </thead>\n",
       "  <tbody>\n",
       "    <tr>\n",
       "      <th>0</th>\n",
       "      <td>movie_basics</td>\n",
       "    </tr>\n",
       "    <tr>\n",
       "      <th>1</th>\n",
       "      <td>directors</td>\n",
       "    </tr>\n",
       "    <tr>\n",
       "      <th>2</th>\n",
       "      <td>known_for</td>\n",
       "    </tr>\n",
       "    <tr>\n",
       "      <th>3</th>\n",
       "      <td>movie_akas</td>\n",
       "    </tr>\n",
       "    <tr>\n",
       "      <th>4</th>\n",
       "      <td>movie_ratings</td>\n",
       "    </tr>\n",
       "    <tr>\n",
       "      <th>5</th>\n",
       "      <td>persons</td>\n",
       "    </tr>\n",
       "    <tr>\n",
       "      <th>6</th>\n",
       "      <td>principals</td>\n",
       "    </tr>\n",
       "    <tr>\n",
       "      <th>7</th>\n",
       "      <td>writers</td>\n",
       "    </tr>\n",
       "    <tr>\n",
       "      <th>8</th>\n",
       "      <td>movie_budgets</td>\n",
       "    </tr>\n",
       "    <tr>\n",
       "      <th>9</th>\n",
       "      <td>profits_genres_1</td>\n",
       "    </tr>\n",
       "    <tr>\n",
       "      <th>10</th>\n",
       "      <td>movie_info</td>\n",
       "    </tr>\n",
       "    <tr>\n",
       "      <th>11</th>\n",
       "      <td>tmdb_movies</td>\n",
       "    </tr>\n",
       "    <tr>\n",
       "      <th>12</th>\n",
       "      <td>profits_3</td>\n",
       "    </tr>\n",
       "  </tbody>\n",
       "</table>\n",
       "</div>"
      ],
      "text/plain": [
       "                name\n",
       "0       movie_basics\n",
       "1          directors\n",
       "2          known_for\n",
       "3         movie_akas\n",
       "4      movie_ratings\n",
       "5            persons\n",
       "6         principals\n",
       "7            writers\n",
       "8      movie_budgets\n",
       "9   profits_genres_1\n",
       "10        movie_info\n",
       "11       tmdb_movies\n",
       "12         profits_3"
      ]
     },
     "execution_count": 5,
     "metadata": {},
     "output_type": "execute_result"
    }
   ],
   "source": [
    "pd.read_sql(\"SELECT name FROM sqlite_master WHERE type='table';\", conn)# listing all the tables in the db"
   ]
  },
  {
   "cell_type": "markdown",
   "metadata": {},
   "source": [
    "This database appears to have 8 tables. Let's inspect each to see what information might be relevant for us."
   ]
  },
  {
   "cell_type": "code",
   "execution_count": 6,
   "metadata": {},
   "outputs": [
    {
     "data": {
      "text/html": [
       "<div>\n",
       "<style scoped>\n",
       "    .dataframe tbody tr th:only-of-type {\n",
       "        vertical-align: middle;\n",
       "    }\n",
       "\n",
       "    .dataframe tbody tr th {\n",
       "        vertical-align: top;\n",
       "    }\n",
       "\n",
       "    .dataframe thead th {\n",
       "        text-align: right;\n",
       "    }\n",
       "</style>\n",
       "<table border=\"1\" class=\"dataframe\">\n",
       "  <thead>\n",
       "    <tr style=\"text-align: right;\">\n",
       "      <th></th>\n",
       "      <th>movie_id</th>\n",
       "      <th>primary_title</th>\n",
       "      <th>original_title</th>\n",
       "      <th>start_year</th>\n",
       "      <th>runtime_minutes</th>\n",
       "      <th>genres</th>\n",
       "    </tr>\n",
       "  </thead>\n",
       "  <tbody>\n",
       "    <tr>\n",
       "      <th>0</th>\n",
       "      <td>tt0063540</td>\n",
       "      <td>Sunghursh</td>\n",
       "      <td>Sunghursh</td>\n",
       "      <td>2013</td>\n",
       "      <td>175.0</td>\n",
       "      <td>Action,Crime,Drama</td>\n",
       "    </tr>\n",
       "    <tr>\n",
       "      <th>1</th>\n",
       "      <td>tt0066787</td>\n",
       "      <td>One Day Before the Rainy Season</td>\n",
       "      <td>Ashad Ka Ek Din</td>\n",
       "      <td>2019</td>\n",
       "      <td>114.0</td>\n",
       "      <td>Biography,Drama</td>\n",
       "    </tr>\n",
       "    <tr>\n",
       "      <th>2</th>\n",
       "      <td>tt0069049</td>\n",
       "      <td>The Other Side of the Wind</td>\n",
       "      <td>The Other Side of the Wind</td>\n",
       "      <td>2018</td>\n",
       "      <td>122.0</td>\n",
       "      <td>Drama</td>\n",
       "    </tr>\n",
       "    <tr>\n",
       "      <th>3</th>\n",
       "      <td>tt0069204</td>\n",
       "      <td>Sabse Bada Sukh</td>\n",
       "      <td>Sabse Bada Sukh</td>\n",
       "      <td>2018</td>\n",
       "      <td>NaN</td>\n",
       "      <td>Comedy,Drama</td>\n",
       "    </tr>\n",
       "    <tr>\n",
       "      <th>4</th>\n",
       "      <td>tt0100275</td>\n",
       "      <td>The Wandering Soap Opera</td>\n",
       "      <td>La Telenovela Errante</td>\n",
       "      <td>2017</td>\n",
       "      <td>80.0</td>\n",
       "      <td>Comedy,Drama,Fantasy</td>\n",
       "    </tr>\n",
       "  </tbody>\n",
       "</table>\n",
       "</div>"
      ],
      "text/plain": [
       "    movie_id                    primary_title              original_title  \\\n",
       "0  tt0063540                        Sunghursh                   Sunghursh   \n",
       "1  tt0066787  One Day Before the Rainy Season             Ashad Ka Ek Din   \n",
       "2  tt0069049       The Other Side of the Wind  The Other Side of the Wind   \n",
       "3  tt0069204                  Sabse Bada Sukh             Sabse Bada Sukh   \n",
       "4  tt0100275         The Wandering Soap Opera       La Telenovela Errante   \n",
       "\n",
       "   start_year  runtime_minutes                genres  \n",
       "0        2013            175.0    Action,Crime,Drama  \n",
       "1        2019            114.0       Biography,Drama  \n",
       "2        2018            122.0                 Drama  \n",
       "3        2018              NaN          Comedy,Drama  \n",
       "4        2017             80.0  Comedy,Drama,Fantasy  "
      ]
     },
     "execution_count": 6,
     "metadata": {},
     "output_type": "execute_result"
    }
   ],
   "source": [
    "df_movie_basics =pd.read_sql(\"SELECT * FROM movie_basics;\", conn)# displaying columns in movie_basics table\n",
    "df_movie_basics.head()"
   ]
  },
  {
   "cell_type": "markdown",
   "metadata": {},
   "source": [
    "This Movie basics table contains almost similar data with the rotten tomatoes movies info table."
   ]
  },
  {
   "cell_type": "code",
   "execution_count": 7,
   "metadata": {},
   "outputs": [
    {
     "data": {
      "text/html": [
       "<div>\n",
       "<style scoped>\n",
       "    .dataframe tbody tr th:only-of-type {\n",
       "        vertical-align: middle;\n",
       "    }\n",
       "\n",
       "    .dataframe tbody tr th {\n",
       "        vertical-align: top;\n",
       "    }\n",
       "\n",
       "    .dataframe thead th {\n",
       "        text-align: right;\n",
       "    }\n",
       "</style>\n",
       "<table border=\"1\" class=\"dataframe\">\n",
       "  <thead>\n",
       "    <tr style=\"text-align: right;\">\n",
       "      <th></th>\n",
       "      <th>movie_id</th>\n",
       "      <th>person_id</th>\n",
       "    </tr>\n",
       "  </thead>\n",
       "  <tbody>\n",
       "    <tr>\n",
       "      <th>0</th>\n",
       "      <td>tt0285252</td>\n",
       "      <td>nm0899854</td>\n",
       "    </tr>\n",
       "    <tr>\n",
       "      <th>1</th>\n",
       "      <td>tt0462036</td>\n",
       "      <td>nm1940585</td>\n",
       "    </tr>\n",
       "    <tr>\n",
       "      <th>2</th>\n",
       "      <td>tt0835418</td>\n",
       "      <td>nm0151540</td>\n",
       "    </tr>\n",
       "    <tr>\n",
       "      <th>3</th>\n",
       "      <td>tt0835418</td>\n",
       "      <td>nm0151540</td>\n",
       "    </tr>\n",
       "    <tr>\n",
       "      <th>4</th>\n",
       "      <td>tt0878654</td>\n",
       "      <td>nm0089502</td>\n",
       "    </tr>\n",
       "  </tbody>\n",
       "</table>\n",
       "</div>"
      ],
      "text/plain": [
       "    movie_id  person_id\n",
       "0  tt0285252  nm0899854\n",
       "1  tt0462036  nm1940585\n",
       "2  tt0835418  nm0151540\n",
       "3  tt0835418  nm0151540\n",
       "4  tt0878654  nm0089502"
      ]
     },
     "execution_count": 7,
     "metadata": {},
     "output_type": "execute_result"
    }
   ],
   "source": [
    "df_directors = pd.read_sql(\"SELECT * FROM directors;\", conn)# displaying columns in directors table\n",
    "df_directors.head()"
   ]
  },
  {
   "cell_type": "markdown",
   "metadata": {},
   "source": [
    "This directors table contains information about different movie directors and the movies they have directed.\n"
   ]
  },
  {
   "cell_type": "code",
   "execution_count": 8,
   "metadata": {},
   "outputs": [
    {
     "data": {
      "text/html": [
       "<div>\n",
       "<style scoped>\n",
       "    .dataframe tbody tr th:only-of-type {\n",
       "        vertical-align: middle;\n",
       "    }\n",
       "\n",
       "    .dataframe tbody tr th {\n",
       "        vertical-align: top;\n",
       "    }\n",
       "\n",
       "    .dataframe thead th {\n",
       "        text-align: right;\n",
       "    }\n",
       "</style>\n",
       "<table border=\"1\" class=\"dataframe\">\n",
       "  <thead>\n",
       "    <tr style=\"text-align: right;\">\n",
       "      <th></th>\n",
       "      <th>person_id</th>\n",
       "      <th>movie_id</th>\n",
       "    </tr>\n",
       "  </thead>\n",
       "  <tbody>\n",
       "    <tr>\n",
       "      <th>0</th>\n",
       "      <td>nm0061671</td>\n",
       "      <td>tt0837562</td>\n",
       "    </tr>\n",
       "    <tr>\n",
       "      <th>1</th>\n",
       "      <td>nm0061671</td>\n",
       "      <td>tt2398241</td>\n",
       "    </tr>\n",
       "    <tr>\n",
       "      <th>2</th>\n",
       "      <td>nm0061671</td>\n",
       "      <td>tt0844471</td>\n",
       "    </tr>\n",
       "    <tr>\n",
       "      <th>3</th>\n",
       "      <td>nm0061671</td>\n",
       "      <td>tt0118553</td>\n",
       "    </tr>\n",
       "    <tr>\n",
       "      <th>4</th>\n",
       "      <td>nm0061865</td>\n",
       "      <td>tt0896534</td>\n",
       "    </tr>\n",
       "  </tbody>\n",
       "</table>\n",
       "</div>"
      ],
      "text/plain": [
       "   person_id   movie_id\n",
       "0  nm0061671  tt0837562\n",
       "1  nm0061671  tt2398241\n",
       "2  nm0061671  tt0844471\n",
       "3  nm0061671  tt0118553\n",
       "4  nm0061865  tt0896534"
      ]
     },
     "execution_count": 8,
     "metadata": {},
     "output_type": "execute_result"
    }
   ],
   "source": [
    "df_known_for = pd.read_sql(\"SELECT * FROM known_for;\", conn)# displaying columns in known_for table\n",
    "df_known_for.head()"
   ]
  },
  {
   "cell_type": "markdown",
   "metadata": {},
   "source": [
    "The known_for table contains \"person_id\" which represents actors, directors, actresses, writers e.t.c and the movies they are mostly famous for."
   ]
  },
  {
   "cell_type": "code",
   "execution_count": 9,
   "metadata": {},
   "outputs": [
    {
     "data": {
      "text/html": [
       "<div>\n",
       "<style scoped>\n",
       "    .dataframe tbody tr th:only-of-type {\n",
       "        vertical-align: middle;\n",
       "    }\n",
       "\n",
       "    .dataframe tbody tr th {\n",
       "        vertical-align: top;\n",
       "    }\n",
       "\n",
       "    .dataframe thead th {\n",
       "        text-align: right;\n",
       "    }\n",
       "</style>\n",
       "<table border=\"1\" class=\"dataframe\">\n",
       "  <thead>\n",
       "    <tr style=\"text-align: right;\">\n",
       "      <th></th>\n",
       "      <th>movie_id</th>\n",
       "      <th>averagerating</th>\n",
       "      <th>numvotes</th>\n",
       "    </tr>\n",
       "  </thead>\n",
       "  <tbody>\n",
       "    <tr>\n",
       "      <th>0</th>\n",
       "      <td>tt10356526</td>\n",
       "      <td>8.3</td>\n",
       "      <td>31</td>\n",
       "    </tr>\n",
       "    <tr>\n",
       "      <th>1</th>\n",
       "      <td>tt10384606</td>\n",
       "      <td>8.9</td>\n",
       "      <td>559</td>\n",
       "    </tr>\n",
       "    <tr>\n",
       "      <th>2</th>\n",
       "      <td>tt1042974</td>\n",
       "      <td>6.4</td>\n",
       "      <td>20</td>\n",
       "    </tr>\n",
       "    <tr>\n",
       "      <th>3</th>\n",
       "      <td>tt1043726</td>\n",
       "      <td>4.2</td>\n",
       "      <td>50352</td>\n",
       "    </tr>\n",
       "    <tr>\n",
       "      <th>4</th>\n",
       "      <td>tt1060240</td>\n",
       "      <td>6.5</td>\n",
       "      <td>21</td>\n",
       "    </tr>\n",
       "  </tbody>\n",
       "</table>\n",
       "</div>"
      ],
      "text/plain": [
       "     movie_id  averagerating  numvotes\n",
       "0  tt10356526            8.3        31\n",
       "1  tt10384606            8.9       559\n",
       "2   tt1042974            6.4        20\n",
       "3   tt1043726            4.2     50352\n",
       "4   tt1060240            6.5        21"
      ]
     },
     "execution_count": 9,
     "metadata": {},
     "output_type": "execute_result"
    }
   ],
   "source": [
    "df_movie_ratings = pd.read_sql(\"SELECT * FROM movie_ratings;\", conn)# displaying columns in movie_ratings table\n",
    "df_movie_ratings.head()"
   ]
  },
  {
   "cell_type": "markdown",
   "metadata": {},
   "source": [
    "The movie ratings table has the average IMDB movie ratings for different movies and the number of votes for each movie.\n",
    "\n",
    "Interestingly, some movies seem to have disproportionately more votes than others."
   ]
  },
  {
   "cell_type": "code",
   "execution_count": 10,
   "metadata": {},
   "outputs": [
    {
     "data": {
      "text/html": [
       "<div>\n",
       "<style scoped>\n",
       "    .dataframe tbody tr th:only-of-type {\n",
       "        vertical-align: middle;\n",
       "    }\n",
       "\n",
       "    .dataframe tbody tr th {\n",
       "        vertical-align: top;\n",
       "    }\n",
       "\n",
       "    .dataframe thead th {\n",
       "        text-align: right;\n",
       "    }\n",
       "</style>\n",
       "<table border=\"1\" class=\"dataframe\">\n",
       "  <thead>\n",
       "    <tr style=\"text-align: right;\">\n",
       "      <th></th>\n",
       "      <th>person_id</th>\n",
       "      <th>primary_name</th>\n",
       "      <th>birth_year</th>\n",
       "      <th>death_year</th>\n",
       "      <th>primary_profession</th>\n",
       "    </tr>\n",
       "  </thead>\n",
       "  <tbody>\n",
       "    <tr>\n",
       "      <th>0</th>\n",
       "      <td>nm0061671</td>\n",
       "      <td>Mary Ellen Bauder</td>\n",
       "      <td>NaN</td>\n",
       "      <td>NaN</td>\n",
       "      <td>miscellaneous,production_manager,producer</td>\n",
       "    </tr>\n",
       "    <tr>\n",
       "      <th>1</th>\n",
       "      <td>nm0061865</td>\n",
       "      <td>Joseph Bauer</td>\n",
       "      <td>NaN</td>\n",
       "      <td>NaN</td>\n",
       "      <td>composer,music_department,sound_department</td>\n",
       "    </tr>\n",
       "    <tr>\n",
       "      <th>2</th>\n",
       "      <td>nm0062070</td>\n",
       "      <td>Bruce Baum</td>\n",
       "      <td>NaN</td>\n",
       "      <td>NaN</td>\n",
       "      <td>miscellaneous,actor,writer</td>\n",
       "    </tr>\n",
       "    <tr>\n",
       "      <th>3</th>\n",
       "      <td>nm0062195</td>\n",
       "      <td>Axel Baumann</td>\n",
       "      <td>NaN</td>\n",
       "      <td>NaN</td>\n",
       "      <td>camera_department,cinematographer,art_department</td>\n",
       "    </tr>\n",
       "    <tr>\n",
       "      <th>4</th>\n",
       "      <td>nm0062798</td>\n",
       "      <td>Pete Baxter</td>\n",
       "      <td>NaN</td>\n",
       "      <td>NaN</td>\n",
       "      <td>production_designer,art_department,set_decorator</td>\n",
       "    </tr>\n",
       "  </tbody>\n",
       "</table>\n",
       "</div>"
      ],
      "text/plain": [
       "   person_id       primary_name  birth_year  death_year  \\\n",
       "0  nm0061671  Mary Ellen Bauder         NaN         NaN   \n",
       "1  nm0061865       Joseph Bauer         NaN         NaN   \n",
       "2  nm0062070         Bruce Baum         NaN         NaN   \n",
       "3  nm0062195       Axel Baumann         NaN         NaN   \n",
       "4  nm0062798        Pete Baxter         NaN         NaN   \n",
       "\n",
       "                                 primary_profession  \n",
       "0         miscellaneous,production_manager,producer  \n",
       "1        composer,music_department,sound_department  \n",
       "2                        miscellaneous,actor,writer  \n",
       "3  camera_department,cinematographer,art_department  \n",
       "4  production_designer,art_department,set_decorator  "
      ]
     },
     "execution_count": 10,
     "metadata": {},
     "output_type": "execute_result"
    }
   ],
   "source": [
    "df_persons = pd.read_sql(\"SELECT * FROM persons;\", conn)# displaying columns in persons table\n",
    "df_persons.head()"
   ]
  },
  {
   "cell_type": "markdown",
   "metadata": {},
   "source": [
    "This persons table contains information about different persons in the IMDB database and their professions. Persons can have multiple professions."
   ]
  },
  {
   "cell_type": "code",
   "execution_count": 11,
   "metadata": {},
   "outputs": [
    {
     "data": {
      "text/html": [
       "<div>\n",
       "<style scoped>\n",
       "    .dataframe tbody tr th:only-of-type {\n",
       "        vertical-align: middle;\n",
       "    }\n",
       "\n",
       "    .dataframe tbody tr th {\n",
       "        vertical-align: top;\n",
       "    }\n",
       "\n",
       "    .dataframe thead th {\n",
       "        text-align: right;\n",
       "    }\n",
       "</style>\n",
       "<table border=\"1\" class=\"dataframe\">\n",
       "  <thead>\n",
       "    <tr style=\"text-align: right;\">\n",
       "      <th></th>\n",
       "      <th>movie_id</th>\n",
       "      <th>person_id</th>\n",
       "    </tr>\n",
       "  </thead>\n",
       "  <tbody>\n",
       "    <tr>\n",
       "      <th>0</th>\n",
       "      <td>tt0285252</td>\n",
       "      <td>nm0899854</td>\n",
       "    </tr>\n",
       "    <tr>\n",
       "      <th>1</th>\n",
       "      <td>tt0438973</td>\n",
       "      <td>nm0175726</td>\n",
       "    </tr>\n",
       "    <tr>\n",
       "      <th>2</th>\n",
       "      <td>tt0438973</td>\n",
       "      <td>nm1802864</td>\n",
       "    </tr>\n",
       "    <tr>\n",
       "      <th>3</th>\n",
       "      <td>tt0462036</td>\n",
       "      <td>nm1940585</td>\n",
       "    </tr>\n",
       "    <tr>\n",
       "      <th>4</th>\n",
       "      <td>tt0835418</td>\n",
       "      <td>nm0310087</td>\n",
       "    </tr>\n",
       "  </tbody>\n",
       "</table>\n",
       "</div>"
      ],
      "text/plain": [
       "    movie_id  person_id\n",
       "0  tt0285252  nm0899854\n",
       "1  tt0438973  nm0175726\n",
       "2  tt0438973  nm1802864\n",
       "3  tt0462036  nm1940585\n",
       "4  tt0835418  nm0310087"
      ]
     },
     "execution_count": 11,
     "metadata": {},
     "output_type": "execute_result"
    }
   ],
   "source": [
    "df_writers = pd.read_sql(\"SELECT * FROM writers;\", conn)# displaying columns in writers table\n",
    "df_writers.head()"
   ]
  },
  {
   "cell_type": "markdown",
   "metadata": {},
   "source": [
    "This tables contains information about different writers and the movie scripts they wrote."
   ]
  },
  {
   "cell_type": "markdown",
   "metadata": {},
   "source": [
    "Next let's look at data from the **TheMovieDB**."
   ]
  },
  {
   "cell_type": "code",
   "execution_count": 12,
   "metadata": {},
   "outputs": [
    {
     "data": {
      "text/html": [
       "<div>\n",
       "<style scoped>\n",
       "    .dataframe tbody tr th:only-of-type {\n",
       "        vertical-align: middle;\n",
       "    }\n",
       "\n",
       "    .dataframe tbody tr th {\n",
       "        vertical-align: top;\n",
       "    }\n",
       "\n",
       "    .dataframe thead th {\n",
       "        text-align: right;\n",
       "    }\n",
       "</style>\n",
       "<table border=\"1\" class=\"dataframe\">\n",
       "  <thead>\n",
       "    <tr style=\"text-align: right;\">\n",
       "      <th></th>\n",
       "      <th>genre_ids</th>\n",
       "      <th>id</th>\n",
       "      <th>original_language</th>\n",
       "      <th>original_title</th>\n",
       "      <th>popularity</th>\n",
       "      <th>release_date</th>\n",
       "      <th>title</th>\n",
       "      <th>vote_average</th>\n",
       "      <th>vote_count</th>\n",
       "    </tr>\n",
       "  </thead>\n",
       "  <tbody>\n",
       "    <tr>\n",
       "      <th>0</th>\n",
       "      <td>[12, 14, 10751]</td>\n",
       "      <td>12444</td>\n",
       "      <td>en</td>\n",
       "      <td>Harry Potter and the Deathly Hallows: Part 1</td>\n",
       "      <td>33.533</td>\n",
       "      <td>2010-11-19</td>\n",
       "      <td>Harry Potter and the Deathly Hallows: Part 1</td>\n",
       "      <td>7.7</td>\n",
       "      <td>10788</td>\n",
       "    </tr>\n",
       "    <tr>\n",
       "      <th>1</th>\n",
       "      <td>[14, 12, 16, 10751]</td>\n",
       "      <td>10191</td>\n",
       "      <td>en</td>\n",
       "      <td>How to Train Your Dragon</td>\n",
       "      <td>28.734</td>\n",
       "      <td>2010-03-26</td>\n",
       "      <td>How to Train Your Dragon</td>\n",
       "      <td>7.7</td>\n",
       "      <td>7610</td>\n",
       "    </tr>\n",
       "    <tr>\n",
       "      <th>2</th>\n",
       "      <td>[12, 28, 878]</td>\n",
       "      <td>10138</td>\n",
       "      <td>en</td>\n",
       "      <td>Iron Man 2</td>\n",
       "      <td>28.515</td>\n",
       "      <td>2010-05-07</td>\n",
       "      <td>Iron Man 2</td>\n",
       "      <td>6.8</td>\n",
       "      <td>12368</td>\n",
       "    </tr>\n",
       "    <tr>\n",
       "      <th>3</th>\n",
       "      <td>[16, 35, 10751]</td>\n",
       "      <td>862</td>\n",
       "      <td>en</td>\n",
       "      <td>Toy Story</td>\n",
       "      <td>28.005</td>\n",
       "      <td>1995-11-22</td>\n",
       "      <td>Toy Story</td>\n",
       "      <td>7.9</td>\n",
       "      <td>10174</td>\n",
       "    </tr>\n",
       "    <tr>\n",
       "      <th>4</th>\n",
       "      <td>[28, 878, 12]</td>\n",
       "      <td>27205</td>\n",
       "      <td>en</td>\n",
       "      <td>Inception</td>\n",
       "      <td>27.920</td>\n",
       "      <td>2010-07-16</td>\n",
       "      <td>Inception</td>\n",
       "      <td>8.3</td>\n",
       "      <td>22186</td>\n",
       "    </tr>\n",
       "  </tbody>\n",
       "</table>\n",
       "</div>"
      ],
      "text/plain": [
       "             genre_ids     id original_language  \\\n",
       "0      [12, 14, 10751]  12444                en   \n",
       "1  [14, 12, 16, 10751]  10191                en   \n",
       "2        [12, 28, 878]  10138                en   \n",
       "3      [16, 35, 10751]    862                en   \n",
       "4        [28, 878, 12]  27205                en   \n",
       "\n",
       "                                 original_title  popularity release_date  \\\n",
       "0  Harry Potter and the Deathly Hallows: Part 1      33.533   2010-11-19   \n",
       "1                      How to Train Your Dragon      28.734   2010-03-26   \n",
       "2                                    Iron Man 2      28.515   2010-05-07   \n",
       "3                                     Toy Story      28.005   1995-11-22   \n",
       "4                                     Inception      27.920   2010-07-16   \n",
       "\n",
       "                                          title  vote_average  vote_count  \n",
       "0  Harry Potter and the Deathly Hallows: Part 1           7.7       10788  \n",
       "1                      How to Train Your Dragon           7.7        7610  \n",
       "2                                    Iron Man 2           6.8       12368  \n",
       "3                                     Toy Story           7.9       10174  \n",
       "4                                     Inception           8.3       22186  "
      ]
     },
     "execution_count": 12,
     "metadata": {},
     "output_type": "execute_result"
    }
   ],
   "source": [
    "df_tmovie_db = pd.read_csv(\"zippedData\\\\tmdb.movies.csv\\\\tmdb.movies.csv\", index_col=0)#opening the table from TheMovieDB\n",
    "df_tmovie_db.head()"
   ]
  },
  {
   "cell_type": "markdown",
   "metadata": {},
   "source": [
    "This data contains general information about movies including the **Original Language** of the movie and its **Genres**."
   ]
  },
  {
   "cell_type": "markdown",
   "metadata": {},
   "source": [
    "Let's take a look at data from **The Numbers**."
   ]
  },
  {
   "cell_type": "code",
   "execution_count": 13,
   "metadata": {},
   "outputs": [
    {
     "data": {
      "text/html": [
       "<div>\n",
       "<style scoped>\n",
       "    .dataframe tbody tr th:only-of-type {\n",
       "        vertical-align: middle;\n",
       "    }\n",
       "\n",
       "    .dataframe tbody tr th {\n",
       "        vertical-align: top;\n",
       "    }\n",
       "\n",
       "    .dataframe thead th {\n",
       "        text-align: right;\n",
       "    }\n",
       "</style>\n",
       "<table border=\"1\" class=\"dataframe\">\n",
       "  <thead>\n",
       "    <tr style=\"text-align: right;\">\n",
       "      <th></th>\n",
       "      <th>id</th>\n",
       "      <th>release_date</th>\n",
       "      <th>movie</th>\n",
       "      <th>production_budget</th>\n",
       "      <th>domestic_gross</th>\n",
       "      <th>worldwide_gross</th>\n",
       "    </tr>\n",
       "  </thead>\n",
       "  <tbody>\n",
       "    <tr>\n",
       "      <th>0</th>\n",
       "      <td>1</td>\n",
       "      <td>Dec 18, 2009</td>\n",
       "      <td>Avatar</td>\n",
       "      <td>$425,000,000</td>\n",
       "      <td>$760,507,625</td>\n",
       "      <td>$2,776,345,279</td>\n",
       "    </tr>\n",
       "    <tr>\n",
       "      <th>1</th>\n",
       "      <td>2</td>\n",
       "      <td>May 20, 2011</td>\n",
       "      <td>Pirates of the Caribbean: On Stranger Tides</td>\n",
       "      <td>$410,600,000</td>\n",
       "      <td>$241,063,875</td>\n",
       "      <td>$1,045,663,875</td>\n",
       "    </tr>\n",
       "    <tr>\n",
       "      <th>2</th>\n",
       "      <td>3</td>\n",
       "      <td>Jun 7, 2019</td>\n",
       "      <td>Dark Phoenix</td>\n",
       "      <td>$350,000,000</td>\n",
       "      <td>$42,762,350</td>\n",
       "      <td>$149,762,350</td>\n",
       "    </tr>\n",
       "    <tr>\n",
       "      <th>3</th>\n",
       "      <td>4</td>\n",
       "      <td>May 1, 2015</td>\n",
       "      <td>Avengers: Age of Ultron</td>\n",
       "      <td>$330,600,000</td>\n",
       "      <td>$459,005,868</td>\n",
       "      <td>$1,403,013,963</td>\n",
       "    </tr>\n",
       "    <tr>\n",
       "      <th>4</th>\n",
       "      <td>5</td>\n",
       "      <td>Dec 15, 2017</td>\n",
       "      <td>Star Wars Ep. VIII: The Last Jedi</td>\n",
       "      <td>$317,000,000</td>\n",
       "      <td>$620,181,382</td>\n",
       "      <td>$1,316,721,747</td>\n",
       "    </tr>\n",
       "  </tbody>\n",
       "</table>\n",
       "</div>"
      ],
      "text/plain": [
       "   id  release_date                                        movie  \\\n",
       "0   1  Dec 18, 2009                                       Avatar   \n",
       "1   2  May 20, 2011  Pirates of the Caribbean: On Stranger Tides   \n",
       "2   3   Jun 7, 2019                                 Dark Phoenix   \n",
       "3   4   May 1, 2015                      Avengers: Age of Ultron   \n",
       "4   5  Dec 15, 2017            Star Wars Ep. VIII: The Last Jedi   \n",
       "\n",
       "  production_budget domestic_gross worldwide_gross  \n",
       "0      $425,000,000   $760,507,625  $2,776,345,279  \n",
       "1      $410,600,000   $241,063,875  $1,045,663,875  \n",
       "2      $350,000,000    $42,762,350    $149,762,350  \n",
       "3      $330,600,000   $459,005,868  $1,403,013,963  \n",
       "4      $317,000,000   $620,181,382  $1,316,721,747  "
      ]
     },
     "execution_count": 13,
     "metadata": {},
     "output_type": "execute_result"
    }
   ],
   "source": [
    "df_tn_movie_budgets = pd.read_csv(\"zippedData\\\\tn.movie_budgets.csv\\\\tn.movie_budgets.csv\")# opening The Numbers table\n",
    "df_tn_movie_budgets.head()"
   ]
  },
  {
   "cell_type": "markdown",
   "metadata": {},
   "source": [
    "This is information about the financial box office grossings of different movies  both in the US and worldwide(US+Foreign) and their production budgets."
   ]
  },
  {
   "cell_type": "markdown",
   "metadata": {},
   "source": [
    "Finally, a look at the data from **Box Office Mojo**."
   ]
  },
  {
   "cell_type": "code",
   "execution_count": 14,
   "metadata": {},
   "outputs": [
    {
     "data": {
      "text/html": [
       "<div>\n",
       "<style scoped>\n",
       "    .dataframe tbody tr th:only-of-type {\n",
       "        vertical-align: middle;\n",
       "    }\n",
       "\n",
       "    .dataframe tbody tr th {\n",
       "        vertical-align: top;\n",
       "    }\n",
       "\n",
       "    .dataframe thead th {\n",
       "        text-align: right;\n",
       "    }\n",
       "</style>\n",
       "<table border=\"1\" class=\"dataframe\">\n",
       "  <thead>\n",
       "    <tr style=\"text-align: right;\">\n",
       "      <th></th>\n",
       "      <th>title</th>\n",
       "      <th>studio</th>\n",
       "      <th>domestic_gross</th>\n",
       "      <th>foreign_gross</th>\n",
       "      <th>year</th>\n",
       "    </tr>\n",
       "  </thead>\n",
       "  <tbody>\n",
       "    <tr>\n",
       "      <th>0</th>\n",
       "      <td>Toy Story 3</td>\n",
       "      <td>BV</td>\n",
       "      <td>415000000.0</td>\n",
       "      <td>652000000</td>\n",
       "      <td>2010</td>\n",
       "    </tr>\n",
       "    <tr>\n",
       "      <th>1</th>\n",
       "      <td>Alice in Wonderland (2010)</td>\n",
       "      <td>BV</td>\n",
       "      <td>334200000.0</td>\n",
       "      <td>691300000</td>\n",
       "      <td>2010</td>\n",
       "    </tr>\n",
       "    <tr>\n",
       "      <th>2</th>\n",
       "      <td>Harry Potter and the Deathly Hallows Part 1</td>\n",
       "      <td>WB</td>\n",
       "      <td>296000000.0</td>\n",
       "      <td>664300000</td>\n",
       "      <td>2010</td>\n",
       "    </tr>\n",
       "    <tr>\n",
       "      <th>3</th>\n",
       "      <td>Inception</td>\n",
       "      <td>WB</td>\n",
       "      <td>292600000.0</td>\n",
       "      <td>535700000</td>\n",
       "      <td>2010</td>\n",
       "    </tr>\n",
       "    <tr>\n",
       "      <th>4</th>\n",
       "      <td>Shrek Forever After</td>\n",
       "      <td>P/DW</td>\n",
       "      <td>238700000.0</td>\n",
       "      <td>513900000</td>\n",
       "      <td>2010</td>\n",
       "    </tr>\n",
       "  </tbody>\n",
       "</table>\n",
       "</div>"
      ],
      "text/plain": [
       "                                         title studio  domestic_gross  \\\n",
       "0                                  Toy Story 3     BV     415000000.0   \n",
       "1                   Alice in Wonderland (2010)     BV     334200000.0   \n",
       "2  Harry Potter and the Deathly Hallows Part 1     WB     296000000.0   \n",
       "3                                    Inception     WB     292600000.0   \n",
       "4                          Shrek Forever After   P/DW     238700000.0   \n",
       "\n",
       "  foreign_gross  year  \n",
       "0     652000000  2010  \n",
       "1     691300000  2010  \n",
       "2     664300000  2010  \n",
       "3     535700000  2010  \n",
       "4     513900000  2010  "
      ]
     },
     "execution_count": 14,
     "metadata": {},
     "output_type": "execute_result"
    }
   ],
   "source": [
    "df_bom_gross = pd.read_csv(\"zippedData\\\\bom.movie_gross.csv\\\\bom.movie_gross.csv\")# opening the box office mojo table\n",
    "df_bom_gross.head()"
   ]
  },
  {
   "cell_type": "markdown",
   "metadata": {},
   "source": [
    "This table shows the US and Foreign grossings of movies at the box office."
   ]
  },
  {
   "cell_type": "markdown",
   "metadata": {},
   "source": [
    "## DATA UNDERSTANDING\n",
    "***"
   ]
  },
  {
   "cell_type": "markdown",
   "metadata": {},
   "source": [
    "In order to get a better **business understanding** about the performances of these movies in the box office, it is important to understand the **financial aspect**. Whether a movie made significant losses or profits.\n",
    "\n",
    "For that we will use the movie_budgets table from The Numbers data to calculate the **net profit or loss**."
   ]
  },
  {
   "cell_type": "markdown",
   "metadata": {},
   "source": [
    "From there, we can then use that information to investigate whether there are any relationships between various aspects or themes of the films and their box office performances.\n",
    "\n",
    "We will seek to establish whether there are any relationships between:\n",
    "1. **Movie genres** and **profit**. Are there any particular genres that are more profitable?\n",
    "2. **Budget** and **genres**. Which movie genres do studios spend the most budgets on?\n",
    "3. **Movie original language** and **box office performance**. Does the language(s) of a movie have any impact on its attractiveness to audiences?\n",
    "4. **Critic ratings** and **profit**. Do critics have any influence on how a movie will sell?\n",
    "5.\t**Movie genres** and **month of release** e.g. horrors and Halloween. Are there certain times of the years when movie releases perform better?\n",
    "6. **Month of release** and **profit**. Are there certain times of the years when movie releases perform better in terms of profit?\t\n",
    "\t"
   ]
  },
  {
   "cell_type": "markdown",
   "metadata": {},
   "source": [
    "Let's start by calculating the net profits/losses."
   ]
  },
  {
   "cell_type": "code",
   "execution_count": 15,
   "metadata": {},
   "outputs": [
    {
     "name": "stdout",
     "output_type": "stream",
     "text": [
      "<class 'pandas.core.frame.DataFrame'>\n",
      "RangeIndex: 5782 entries, 0 to 5781\n",
      "Data columns (total 6 columns):\n",
      " #   Column             Non-Null Count  Dtype \n",
      "---  ------             --------------  ----- \n",
      " 0   id                 5782 non-null   int64 \n",
      " 1   release_date       5782 non-null   object\n",
      " 2   movie              5782 non-null   object\n",
      " 3   production_budget  5782 non-null   object\n",
      " 4   domestic_gross     5782 non-null   object\n",
      " 5   worldwide_gross    5782 non-null   object\n",
      "dtypes: int64(1), object(5)\n",
      "memory usage: 271.2+ KB\n",
      "None\n",
      "[False]\n"
     ]
    },
    {
     "data": {
      "text/html": [
       "<div>\n",
       "<style scoped>\n",
       "    .dataframe tbody tr th:only-of-type {\n",
       "        vertical-align: middle;\n",
       "    }\n",
       "\n",
       "    .dataframe tbody tr th {\n",
       "        vertical-align: top;\n",
       "    }\n",
       "\n",
       "    .dataframe thead th {\n",
       "        text-align: right;\n",
       "    }\n",
       "</style>\n",
       "<table border=\"1\" class=\"dataframe\">\n",
       "  <thead>\n",
       "    <tr style=\"text-align: right;\">\n",
       "      <th></th>\n",
       "      <th>id</th>\n",
       "      <th>release_date</th>\n",
       "      <th>movie</th>\n",
       "      <th>production_budget</th>\n",
       "      <th>domestic_gross</th>\n",
       "      <th>worldwide_gross</th>\n",
       "    </tr>\n",
       "  </thead>\n",
       "  <tbody>\n",
       "    <tr>\n",
       "      <th>0</th>\n",
       "      <td>1</td>\n",
       "      <td>Dec 18, 2009</td>\n",
       "      <td>Avatar</td>\n",
       "      <td>$425,000,000</td>\n",
       "      <td>$760,507,625</td>\n",
       "      <td>$2,776,345,279</td>\n",
       "    </tr>\n",
       "    <tr>\n",
       "      <th>1</th>\n",
       "      <td>2</td>\n",
       "      <td>May 20, 2011</td>\n",
       "      <td>Pirates of the Caribbean: On Stranger Tides</td>\n",
       "      <td>$410,600,000</td>\n",
       "      <td>$241,063,875</td>\n",
       "      <td>$1,045,663,875</td>\n",
       "    </tr>\n",
       "    <tr>\n",
       "      <th>2</th>\n",
       "      <td>3</td>\n",
       "      <td>Jun 7, 2019</td>\n",
       "      <td>Dark Phoenix</td>\n",
       "      <td>$350,000,000</td>\n",
       "      <td>$42,762,350</td>\n",
       "      <td>$149,762,350</td>\n",
       "    </tr>\n",
       "  </tbody>\n",
       "</table>\n",
       "</div>"
      ],
      "text/plain": [
       "   id  release_date                                        movie  \\\n",
       "0   1  Dec 18, 2009                                       Avatar   \n",
       "1   2  May 20, 2011  Pirates of the Caribbean: On Stranger Tides   \n",
       "2   3   Jun 7, 2019                                 Dark Phoenix   \n",
       "\n",
       "  production_budget domestic_gross worldwide_gross  \n",
       "0      $425,000,000   $760,507,625  $2,776,345,279  \n",
       "1      $410,600,000   $241,063,875  $1,045,663,875  \n",
       "2      $350,000,000    $42,762,350    $149,762,350  "
      ]
     },
     "execution_count": 15,
     "metadata": {},
     "output_type": "execute_result"
    }
   ],
   "source": [
    "# inspect the data types of the numbers movie_budgets table\n",
    "print(df_tn_movie_budgets.info())\n",
    "print(df_tn_movie_budgets.duplicated().unique())\n",
    "df_tn_movie_budgets.head(3)"
   ]
  },
  {
   "cell_type": "markdown",
   "metadata": {},
   "source": [
    "We can use this data to create a new **Profits** variable.\n",
    "First, We need to convert the variables to numeric type and remove the \"$\"  and \",\" in order to be able to perform calculations.\n",
    "\n",
    "The data also does not have any missing values or duplicates."
   ]
  },
  {
   "cell_type": "code",
   "execution_count": 16,
   "metadata": {},
   "outputs": [
    {
     "name": "stderr",
     "output_type": "stream",
     "text": [
      "<ipython-input-16-b825f2758a5f>:3: FutureWarning: The default value of regex will change from True to False in a future version. In addition, single character regular expressions will *not* be treated as literal strings when regex=True.\n",
      "  df_tn_movie_budgets[\"worldwide_gross\"] = df_tn_movie_budgets[\"worldwide_gross\"].astype(str).str.replace(\"$\",\"\")\n",
      "<ipython-input-16-b825f2758a5f>:5: FutureWarning: The default value of regex will change from True to False in a future version. In addition, single character regular expressions will *not* be treated as literal strings when regex=True.\n",
      "  df_tn_movie_budgets[\"domestic_gross\"] = df_tn_movie_budgets[\"domestic_gross\"].astype(str).str.replace(\"$\",\"\")\n",
      "<ipython-input-16-b825f2758a5f>:7: FutureWarning: The default value of regex will change from True to False in a future version. In addition, single character regular expressions will *not* be treated as literal strings when regex=True.\n",
      "  df_tn_movie_budgets[\"production_budget\"] = df_tn_movie_budgets[\"production_budget\"].astype(str).str.replace(\"$\",\"\")\n"
     ]
    }
   ],
   "source": [
    "# striping the \"$\" and \",\" from all values in the relevant variables\n",
    "df_tn_movie_budgets[\"worldwide_gross\"] = df_tn_movie_budgets[\"worldwide_gross\"].astype(str).str.replace(\",\",\"\")\n",
    "df_tn_movie_budgets[\"worldwide_gross\"] = df_tn_movie_budgets[\"worldwide_gross\"].astype(str).str.replace(\"$\",\"\")\n",
    "df_tn_movie_budgets[\"domestic_gross\"] = df_tn_movie_budgets[\"domestic_gross\"].astype(str).str.replace(\",\",\"\")\n",
    "df_tn_movie_budgets[\"domestic_gross\"] = df_tn_movie_budgets[\"domestic_gross\"].astype(str).str.replace(\"$\",\"\")\n",
    "df_tn_movie_budgets[\"production_budget\"] = df_tn_movie_budgets[\"production_budget\"].astype(str).str.replace(\",\",\"\")\n",
    "df_tn_movie_budgets[\"production_budget\"] = df_tn_movie_budgets[\"production_budget\"].astype(str).str.replace(\"$\",\"\")"
   ]
  },
  {
   "cell_type": "code",
   "execution_count": 17,
   "metadata": {},
   "outputs": [],
   "source": [
    "#converting the varibles to numeric data type float\n",
    "df_tn_movie_budgets[\"worldwide_gross\"] =df_tn_movie_budgets[\"worldwide_gross\"].astype(float)\n",
    "df_tn_movie_budgets[\"domestic_gross\"] =df_tn_movie_budgets[\"domestic_gross\"].astype(float)\n",
    "df_tn_movie_budgets[\"production_budget\"] = df_tn_movie_budgets[\"production_budget\"].astype(float)"
   ]
  },
  {
   "cell_type": "code",
   "execution_count": 18,
   "metadata": {},
   "outputs": [
    {
     "data": {
      "text/plain": [
       "0       2.351345e+09\n",
       "1       6.350639e+08\n",
       "2      -2.002376e+08\n",
       "3       1.072414e+09\n",
       "4       9.997217e+08\n",
       "            ...     \n",
       "5777   -7.000000e+03\n",
       "5778    2.344950e+05\n",
       "5779   -3.662000e+03\n",
       "5780   -1.400000e+03\n",
       "5781    1.799410e+05\n",
       "Name: Profits, Length: 5782, dtype: float64"
      ]
     },
     "execution_count": 18,
     "metadata": {},
     "output_type": "execute_result"
    }
   ],
   "source": [
    "#creating a new column Profits by subtracting the production budgets from worldwide grossings \n",
    "df_tn_movie_budgets[\"Profits\"] = df_tn_movie_budgets[\"worldwide_gross\"] - df_tn_movie_budgets[\"production_budget\"]\n",
    "df_tn_movie_budgets[\"Profits\"]"
   ]
  },
  {
   "cell_type": "code",
   "execution_count": 19,
   "metadata": {},
   "outputs": [
    {
     "data": {
      "text/html": [
       "<div>\n",
       "<style scoped>\n",
       "    .dataframe tbody tr th:only-of-type {\n",
       "        vertical-align: middle;\n",
       "    }\n",
       "\n",
       "    .dataframe tbody tr th {\n",
       "        vertical-align: top;\n",
       "    }\n",
       "\n",
       "    .dataframe thead th {\n",
       "        text-align: right;\n",
       "    }\n",
       "</style>\n",
       "<table border=\"1\" class=\"dataframe\">\n",
       "  <thead>\n",
       "    <tr style=\"text-align: right;\">\n",
       "      <th></th>\n",
       "      <th>id</th>\n",
       "      <th>release_date</th>\n",
       "      <th>movie</th>\n",
       "      <th>production_budget</th>\n",
       "      <th>domestic_gross</th>\n",
       "      <th>worldwide_gross</th>\n",
       "      <th>Profits</th>\n",
       "    </tr>\n",
       "  </thead>\n",
       "  <tbody>\n",
       "    <tr>\n",
       "      <th>0</th>\n",
       "      <td>1</td>\n",
       "      <td>Dec 18, 2009</td>\n",
       "      <td>Avatar</td>\n",
       "      <td>425000000.0</td>\n",
       "      <td>760507625.0</td>\n",
       "      <td>2.776345e+09</td>\n",
       "      <td>2.351345e+09</td>\n",
       "    </tr>\n",
       "    <tr>\n",
       "      <th>1</th>\n",
       "      <td>2</td>\n",
       "      <td>May 20, 2011</td>\n",
       "      <td>Pirates of the Caribbean: On Stranger Tides</td>\n",
       "      <td>410600000.0</td>\n",
       "      <td>241063875.0</td>\n",
       "      <td>1.045664e+09</td>\n",
       "      <td>6.350639e+08</td>\n",
       "    </tr>\n",
       "    <tr>\n",
       "      <th>2</th>\n",
       "      <td>3</td>\n",
       "      <td>Jun 7, 2019</td>\n",
       "      <td>Dark Phoenix</td>\n",
       "      <td>350000000.0</td>\n",
       "      <td>42762350.0</td>\n",
       "      <td>1.497624e+08</td>\n",
       "      <td>-2.002376e+08</td>\n",
       "    </tr>\n",
       "    <tr>\n",
       "      <th>3</th>\n",
       "      <td>4</td>\n",
       "      <td>May 1, 2015</td>\n",
       "      <td>Avengers: Age of Ultron</td>\n",
       "      <td>330600000.0</td>\n",
       "      <td>459005868.0</td>\n",
       "      <td>1.403014e+09</td>\n",
       "      <td>1.072414e+09</td>\n",
       "    </tr>\n",
       "    <tr>\n",
       "      <th>4</th>\n",
       "      <td>5</td>\n",
       "      <td>Dec 15, 2017</td>\n",
       "      <td>Star Wars Ep. VIII: The Last Jedi</td>\n",
       "      <td>317000000.0</td>\n",
       "      <td>620181382.0</td>\n",
       "      <td>1.316722e+09</td>\n",
       "      <td>9.997217e+08</td>\n",
       "    </tr>\n",
       "  </tbody>\n",
       "</table>\n",
       "</div>"
      ],
      "text/plain": [
       "   id  release_date                                        movie  \\\n",
       "0   1  Dec 18, 2009                                       Avatar   \n",
       "1   2  May 20, 2011  Pirates of the Caribbean: On Stranger Tides   \n",
       "2   3   Jun 7, 2019                                 Dark Phoenix   \n",
       "3   4   May 1, 2015                      Avengers: Age of Ultron   \n",
       "4   5  Dec 15, 2017            Star Wars Ep. VIII: The Last Jedi   \n",
       "\n",
       "   production_budget  domestic_gross  worldwide_gross       Profits  \n",
       "0        425000000.0     760507625.0     2.776345e+09  2.351345e+09  \n",
       "1        410600000.0     241063875.0     1.045664e+09  6.350639e+08  \n",
       "2        350000000.0      42762350.0     1.497624e+08 -2.002376e+08  \n",
       "3        330600000.0     459005868.0     1.403014e+09  1.072414e+09  \n",
       "4        317000000.0     620181382.0     1.316722e+09  9.997217e+08  "
      ]
     },
     "execution_count": 19,
     "metadata": {},
     "output_type": "execute_result"
    }
   ],
   "source": [
    "#confirming the new changes\n",
    "df_tn_movie_budgets.head()"
   ]
  },
  {
   "cell_type": "markdown",
   "metadata": {},
   "source": [
    "Let's investigate the 1st relationship between **Movie Genres and Profits**.\n",
    "\n",
    "The most suitable movie genre data we have is from the IMDB movie_basics table.\n",
    "We need to combine **The Numbers movie_budgets table** with the **IMDB movie_basics table** in order to create a table with both profits and movie genres."
   ]
  },
  {
   "cell_type": "code",
   "execution_count": 21,
   "metadata": {},
   "outputs": [],
   "source": [
    "#transform the movie_budgets dataframe to SQL so that we can be able to query it using SQL statements.\n",
    "#df_tn_movie_budgets.to_sql(\"movie_budgets\", conn, index = False)"
   ]
  },
  {
   "cell_type": "code",
   "execution_count": 22,
   "metadata": {},
   "outputs": [],
   "source": [
    "# Create an new dataframe Profits_genres that combines information from both tables.\n",
    "profits_genres = pd.read_sql(\"\"\"\n",
    "SELECT * \n",
    "FROM movie_budgets as a\n",
    "JOIN movie_basics as b\n",
    "ON b.primary_title = a.movie\n",
    "            \"\"\",conn).copy()"
   ]
  },
  {
   "cell_type": "code",
   "execution_count": 23,
   "metadata": {},
   "outputs": [
    {
     "data": {
      "text/html": [
       "<div>\n",
       "<style scoped>\n",
       "    .dataframe tbody tr th:only-of-type {\n",
       "        vertical-align: middle;\n",
       "    }\n",
       "\n",
       "    .dataframe tbody tr th {\n",
       "        vertical-align: top;\n",
       "    }\n",
       "\n",
       "    .dataframe thead th {\n",
       "        text-align: right;\n",
       "    }\n",
       "</style>\n",
       "<table border=\"1\" class=\"dataframe\">\n",
       "  <thead>\n",
       "    <tr style=\"text-align: right;\">\n",
       "      <th></th>\n",
       "      <th>id</th>\n",
       "      <th>release_date</th>\n",
       "      <th>movie</th>\n",
       "      <th>production_budget</th>\n",
       "      <th>domestic_gross</th>\n",
       "      <th>worldwide_gross</th>\n",
       "      <th>Profits</th>\n",
       "      <th>movie_id</th>\n",
       "      <th>primary_title</th>\n",
       "      <th>original_title</th>\n",
       "      <th>start_year</th>\n",
       "      <th>runtime_minutes</th>\n",
       "      <th>genres</th>\n",
       "    </tr>\n",
       "  </thead>\n",
       "  <tbody>\n",
       "    <tr>\n",
       "      <th>0</th>\n",
       "      <td>1</td>\n",
       "      <td>Dec 18, 2009</td>\n",
       "      <td>Avatar</td>\n",
       "      <td>425000000.0</td>\n",
       "      <td>760507625.0</td>\n",
       "      <td>2.776345e+09</td>\n",
       "      <td>2.351345e+09</td>\n",
       "      <td>tt1775309</td>\n",
       "      <td>Avatar</td>\n",
       "      <td>Abatâ</td>\n",
       "      <td>2011</td>\n",
       "      <td>93.0</td>\n",
       "      <td>Horror</td>\n",
       "    </tr>\n",
       "    <tr>\n",
       "      <th>1</th>\n",
       "      <td>2</td>\n",
       "      <td>May 20, 2011</td>\n",
       "      <td>Pirates of the Caribbean: On Stranger Tides</td>\n",
       "      <td>410600000.0</td>\n",
       "      <td>241063875.0</td>\n",
       "      <td>1.045664e+09</td>\n",
       "      <td>6.350639e+08</td>\n",
       "      <td>tt1298650</td>\n",
       "      <td>Pirates of the Caribbean: On Stranger Tides</td>\n",
       "      <td>Pirates of the Caribbean: On Stranger Tides</td>\n",
       "      <td>2011</td>\n",
       "      <td>136.0</td>\n",
       "      <td>Action,Adventure,Fantasy</td>\n",
       "    </tr>\n",
       "    <tr>\n",
       "      <th>2</th>\n",
       "      <td>3</td>\n",
       "      <td>Jun 7, 2019</td>\n",
       "      <td>Dark Phoenix</td>\n",
       "      <td>350000000.0</td>\n",
       "      <td>42762350.0</td>\n",
       "      <td>1.497624e+08</td>\n",
       "      <td>-2.002376e+08</td>\n",
       "      <td>tt6565702</td>\n",
       "      <td>Dark Phoenix</td>\n",
       "      <td>Dark Phoenix</td>\n",
       "      <td>2019</td>\n",
       "      <td>113.0</td>\n",
       "      <td>Action,Adventure,Sci-Fi</td>\n",
       "    </tr>\n",
       "    <tr>\n",
       "      <th>3</th>\n",
       "      <td>4</td>\n",
       "      <td>May 1, 2015</td>\n",
       "      <td>Avengers: Age of Ultron</td>\n",
       "      <td>330600000.0</td>\n",
       "      <td>459005868.0</td>\n",
       "      <td>1.403014e+09</td>\n",
       "      <td>1.072414e+09</td>\n",
       "      <td>tt2395427</td>\n",
       "      <td>Avengers: Age of Ultron</td>\n",
       "      <td>Avengers: Age of Ultron</td>\n",
       "      <td>2015</td>\n",
       "      <td>141.0</td>\n",
       "      <td>Action,Adventure,Sci-Fi</td>\n",
       "    </tr>\n",
       "    <tr>\n",
       "      <th>4</th>\n",
       "      <td>7</td>\n",
       "      <td>Apr 27, 2018</td>\n",
       "      <td>Avengers: Infinity War</td>\n",
       "      <td>300000000.0</td>\n",
       "      <td>678815482.0</td>\n",
       "      <td>2.048134e+09</td>\n",
       "      <td>1.748134e+09</td>\n",
       "      <td>tt4154756</td>\n",
       "      <td>Avengers: Infinity War</td>\n",
       "      <td>Avengers: Infinity War</td>\n",
       "      <td>2018</td>\n",
       "      <td>149.0</td>\n",
       "      <td>Action,Adventure,Sci-Fi</td>\n",
       "    </tr>\n",
       "  </tbody>\n",
       "</table>\n",
       "</div>"
      ],
      "text/plain": [
       "   id  release_date                                        movie  \\\n",
       "0   1  Dec 18, 2009                                       Avatar   \n",
       "1   2  May 20, 2011  Pirates of the Caribbean: On Stranger Tides   \n",
       "2   3   Jun 7, 2019                                 Dark Phoenix   \n",
       "3   4   May 1, 2015                      Avengers: Age of Ultron   \n",
       "4   7  Apr 27, 2018                       Avengers: Infinity War   \n",
       "\n",
       "   production_budget  domestic_gross  worldwide_gross       Profits  \\\n",
       "0        425000000.0     760507625.0     2.776345e+09  2.351345e+09   \n",
       "1        410600000.0     241063875.0     1.045664e+09  6.350639e+08   \n",
       "2        350000000.0      42762350.0     1.497624e+08 -2.002376e+08   \n",
       "3        330600000.0     459005868.0     1.403014e+09  1.072414e+09   \n",
       "4        300000000.0     678815482.0     2.048134e+09  1.748134e+09   \n",
       "\n",
       "    movie_id                                primary_title  \\\n",
       "0  tt1775309                                       Avatar   \n",
       "1  tt1298650  Pirates of the Caribbean: On Stranger Tides   \n",
       "2  tt6565702                                 Dark Phoenix   \n",
       "3  tt2395427                      Avengers: Age of Ultron   \n",
       "4  tt4154756                       Avengers: Infinity War   \n",
       "\n",
       "                                original_title  start_year  runtime_minutes  \\\n",
       "0                                        Abatâ        2011             93.0   \n",
       "1  Pirates of the Caribbean: On Stranger Tides        2011            136.0   \n",
       "2                                 Dark Phoenix        2019            113.0   \n",
       "3                      Avengers: Age of Ultron        2015            141.0   \n",
       "4                       Avengers: Infinity War        2018            149.0   \n",
       "\n",
       "                     genres  \n",
       "0                    Horror  \n",
       "1  Action,Adventure,Fantasy  \n",
       "2   Action,Adventure,Sci-Fi  \n",
       "3   Action,Adventure,Sci-Fi  \n",
       "4   Action,Adventure,Sci-Fi  "
      ]
     },
     "execution_count": 23,
     "metadata": {},
     "output_type": "execute_result"
    }
   ],
   "source": [
    "# converting the new dataframes profits column to numeric data type \n",
    "profits_genres.Profits=profits_genres.Profits.astype(str).str.replace(\",\",\"\")\n",
    "profits_genres.Profits = profits_genres.Profits.astype(float)\n",
    "\n",
    "# inspecting the new table.\n",
    "profits_genres.head()"
   ]
  },
  {
   "cell_type": "markdown",
   "metadata": {},
   "source": [
    "Great, we now have a single table from where we can get a movie's genre and its net profit or loss.\n",
    "Let's look at the different genres in the data."
   ]
  },
  {
   "cell_type": "code",
   "execution_count": 24,
   "metadata": {},
   "outputs": [
    {
     "data": {
      "text/plain": [
       "array(['Horror', 'Action,Adventure,Fantasy', 'Action,Adventure,Sci-Fi',\n",
       "       'Action,Adventure,Thriller', 'Action,Thriller',\n",
       "       'Action,Adventure,Western', 'Adventure,Animation,Comedy',\n",
       "       'Adventure,Family,Fantasy', 'Adventure,Fantasy',\n",
       "       'Action,Crime,Thriller', 'Action,Adventure,Comedy',\n",
       "       'Action,Adventure,Drama', 'Action,Drama', None,\n",
       "       'Action,Adventure,History', 'Action,Adventure', 'Adventure',\n",
       "       'Family', 'Action,Adventure,Animation', 'Documentary',\n",
       "       'Fantasy,Musical', 'Action,Adventure,Horror', 'Drama,Romance',\n",
       "       'Comedy,Drama,Family', 'Drama', 'Drama,Mystery,Sci-Fi',\n",
       "       'Adventure,Comedy,Family', 'Fantasy', 'Action,Adventure,Family',\n",
       "       'Adventure,Drama,Family', 'Action,Horror,Sci-Fi', 'Action,Sci-Fi',\n",
       "       'Animation', 'Crime,Drama', 'Biography,Documentary,History',\n",
       "       'Adventure,Drama,Sci-Fi', 'Drama,Fantasy,Romance',\n",
       "       'Family,Fantasy,Musical', 'Action,Drama,History', 'Sci-Fi'],\n",
       "      dtype=object)"
      ]
     },
     "execution_count": 24,
     "metadata": {},
     "output_type": "execute_result"
    }
   ],
   "source": [
    "# unique values in the genres column\n",
    "profits_genres.genres.unique()[:40]"
   ]
  },
  {
   "cell_type": "markdown",
   "metadata": {},
   "source": [
    "Most movies seem to be a **combination of multiple genres** hence why there are so so many unique combinations.\n",
    "\n",
    "Let's seperate these combinations into individual genres and get more granular data."
   ]
  },
  {
   "cell_type": "code",
   "execution_count": 25,
   "metadata": {},
   "outputs": [
    {
     "data": {
      "text/html": [
       "<div>\n",
       "<style scoped>\n",
       "    .dataframe tbody tr th:only-of-type {\n",
       "        vertical-align: middle;\n",
       "    }\n",
       "\n",
       "    .dataframe tbody tr th {\n",
       "        vertical-align: top;\n",
       "    }\n",
       "\n",
       "    .dataframe thead th {\n",
       "        text-align: right;\n",
       "    }\n",
       "</style>\n",
       "<table border=\"1\" class=\"dataframe\">\n",
       "  <thead>\n",
       "    <tr style=\"text-align: right;\">\n",
       "      <th></th>\n",
       "      <th>id</th>\n",
       "      <th>release_date</th>\n",
       "      <th>movie</th>\n",
       "      <th>production_budget</th>\n",
       "      <th>domestic_gross</th>\n",
       "      <th>worldwide_gross</th>\n",
       "      <th>Profits</th>\n",
       "      <th>movie_id</th>\n",
       "      <th>primary_title</th>\n",
       "      <th>original_title</th>\n",
       "      <th>start_year</th>\n",
       "      <th>runtime_minutes</th>\n",
       "      <th>genres</th>\n",
       "    </tr>\n",
       "  </thead>\n",
       "  <tbody>\n",
       "    <tr>\n",
       "      <th>0</th>\n",
       "      <td>1</td>\n",
       "      <td>Dec 18, 2009</td>\n",
       "      <td>Avatar</td>\n",
       "      <td>425000000.0</td>\n",
       "      <td>760507625.0</td>\n",
       "      <td>2.776345e+09</td>\n",
       "      <td>2.351345e+09</td>\n",
       "      <td>tt1775309</td>\n",
       "      <td>Avatar</td>\n",
       "      <td>Abatâ</td>\n",
       "      <td>2011</td>\n",
       "      <td>93.0</td>\n",
       "      <td>[Horror]</td>\n",
       "    </tr>\n",
       "    <tr>\n",
       "      <th>1</th>\n",
       "      <td>2</td>\n",
       "      <td>May 20, 2011</td>\n",
       "      <td>Pirates of the Caribbean: On Stranger Tides</td>\n",
       "      <td>410600000.0</td>\n",
       "      <td>241063875.0</td>\n",
       "      <td>1.045664e+09</td>\n",
       "      <td>6.350639e+08</td>\n",
       "      <td>tt1298650</td>\n",
       "      <td>Pirates of the Caribbean: On Stranger Tides</td>\n",
       "      <td>Pirates of the Caribbean: On Stranger Tides</td>\n",
       "      <td>2011</td>\n",
       "      <td>136.0</td>\n",
       "      <td>[Action, Adventure, Fantasy]</td>\n",
       "    </tr>\n",
       "    <tr>\n",
       "      <th>2</th>\n",
       "      <td>3</td>\n",
       "      <td>Jun 7, 2019</td>\n",
       "      <td>Dark Phoenix</td>\n",
       "      <td>350000000.0</td>\n",
       "      <td>42762350.0</td>\n",
       "      <td>1.497624e+08</td>\n",
       "      <td>-2.002376e+08</td>\n",
       "      <td>tt6565702</td>\n",
       "      <td>Dark Phoenix</td>\n",
       "      <td>Dark Phoenix</td>\n",
       "      <td>2019</td>\n",
       "      <td>113.0</td>\n",
       "      <td>[Action, Adventure, Sci-Fi]</td>\n",
       "    </tr>\n",
       "    <tr>\n",
       "      <th>3</th>\n",
       "      <td>4</td>\n",
       "      <td>May 1, 2015</td>\n",
       "      <td>Avengers: Age of Ultron</td>\n",
       "      <td>330600000.0</td>\n",
       "      <td>459005868.0</td>\n",
       "      <td>1.403014e+09</td>\n",
       "      <td>1.072414e+09</td>\n",
       "      <td>tt2395427</td>\n",
       "      <td>Avengers: Age of Ultron</td>\n",
       "      <td>Avengers: Age of Ultron</td>\n",
       "      <td>2015</td>\n",
       "      <td>141.0</td>\n",
       "      <td>[Action, Adventure, Sci-Fi]</td>\n",
       "    </tr>\n",
       "    <tr>\n",
       "      <th>4</th>\n",
       "      <td>7</td>\n",
       "      <td>Apr 27, 2018</td>\n",
       "      <td>Avengers: Infinity War</td>\n",
       "      <td>300000000.0</td>\n",
       "      <td>678815482.0</td>\n",
       "      <td>2.048134e+09</td>\n",
       "      <td>1.748134e+09</td>\n",
       "      <td>tt4154756</td>\n",
       "      <td>Avengers: Infinity War</td>\n",
       "      <td>Avengers: Infinity War</td>\n",
       "      <td>2018</td>\n",
       "      <td>149.0</td>\n",
       "      <td>[Action, Adventure, Sci-Fi]</td>\n",
       "    </tr>\n",
       "  </tbody>\n",
       "</table>\n",
       "</div>"
      ],
      "text/plain": [
       "   id  release_date                                        movie  \\\n",
       "0   1  Dec 18, 2009                                       Avatar   \n",
       "1   2  May 20, 2011  Pirates of the Caribbean: On Stranger Tides   \n",
       "2   3   Jun 7, 2019                                 Dark Phoenix   \n",
       "3   4   May 1, 2015                      Avengers: Age of Ultron   \n",
       "4   7  Apr 27, 2018                       Avengers: Infinity War   \n",
       "\n",
       "   production_budget  domestic_gross  worldwide_gross       Profits  \\\n",
       "0        425000000.0     760507625.0     2.776345e+09  2.351345e+09   \n",
       "1        410600000.0     241063875.0     1.045664e+09  6.350639e+08   \n",
       "2        350000000.0      42762350.0     1.497624e+08 -2.002376e+08   \n",
       "3        330600000.0     459005868.0     1.403014e+09  1.072414e+09   \n",
       "4        300000000.0     678815482.0     2.048134e+09  1.748134e+09   \n",
       "\n",
       "    movie_id                                primary_title  \\\n",
       "0  tt1775309                                       Avatar   \n",
       "1  tt1298650  Pirates of the Caribbean: On Stranger Tides   \n",
       "2  tt6565702                                 Dark Phoenix   \n",
       "3  tt2395427                      Avengers: Age of Ultron   \n",
       "4  tt4154756                       Avengers: Infinity War   \n",
       "\n",
       "                                original_title  start_year  runtime_minutes  \\\n",
       "0                                        Abatâ        2011             93.0   \n",
       "1  Pirates of the Caribbean: On Stranger Tides        2011            136.0   \n",
       "2                                 Dark Phoenix        2019            113.0   \n",
       "3                      Avengers: Age of Ultron        2015            141.0   \n",
       "4                       Avengers: Infinity War        2018            149.0   \n",
       "\n",
       "                         genres  \n",
       "0                      [Horror]  \n",
       "1  [Action, Adventure, Fantasy]  \n",
       "2   [Action, Adventure, Sci-Fi]  \n",
       "3   [Action, Adventure, Sci-Fi]  \n",
       "4   [Action, Adventure, Sci-Fi]  "
      ]
     },
     "execution_count": 25,
     "metadata": {},
     "output_type": "execute_result"
    }
   ],
   "source": [
    "# seperate the combinations into individual genres by removing the \",\" seperators\n",
    "profits_genres['genres'] = profits_genres['genres'].str.split(',')\n",
    "\n",
    "# Explode the list of genres into individual rows\n",
    "df_profits_genres_exploded = profits_genres.explode('genres').reset_index(drop=True)\n",
    "df_profits_genres_exploded.genres.value_counts()\n",
    "\n",
    "profits_genres.head()"
   ]
  },
  {
   "cell_type": "markdown",
   "metadata": {},
   "source": [
    "The genres column is now made up of lists of individual genres."
   ]
  },
  {
   "cell_type": "markdown",
   "metadata": {},
   "source": [
    "Let's plot a visualization of the **Frequency of the genres** in the tables."
   ]
  },
  {
   "cell_type": "code",
   "execution_count": 26,
   "metadata": {},
   "outputs": [
    {
     "data": {
      "image/png": "[encoded data removed]",
      "text/plain": [
       "<Figure size 1008x720 with 1 Axes>"
      ]
     },
     "metadata": {
      "needs_background": "light"
     },
     "output_type": "display_data"
    }
   ],
   "source": [
    "# creating a visualization of Frequency of the genres in the tables\n",
    "fig, ax = plt.subplots(figsize = (14,10))\n",
    "\n",
    "ax.bar(df_profits_genres_exploded.genres.value_counts().index, df_profits_genres_exploded.genres.value_counts().values)\n",
    "ax.set_xlabel(\"Movie Genres\")\n",
    "ax.set_ylabel(\"Count\")\n",
    "ax.set_title(\"Frequency of Movies Genres\")\n",
    "ax.set_xticks(range(len(df_profits_genres_exploded.genres.value_counts().index)))\n",
    "ax.set_xticklabels(df_profits_genres_exploded.genres.value_counts().index,rotation=90)\n",
    "plt.show();"
   ]
  },
  {
   "cell_type": "markdown",
   "metadata": {},
   "source": [
    "The most common movie genre by a huge margin was **Drama** followed by **Comedy**, **Action** and **Thriller**.\n",
    "\n",
    "**Reality TV** and **News** were the least popular genres."
   ]
  },
  {
   "cell_type": "markdown",
   "metadata": {},
   "source": [
    "Interesting. Now Let's see the **average net profits of these genres**. \n",
    "\n",
    "For this we will use our exploded dataframe where the genres column is no longer a list but just individual rows of genres."
   ]
  },
  {
   "cell_type": "markdown",
   "metadata": {},
   "source": [
    "Then we will aggregate profits by each genre and calculate the average to compare profitability acros genres."
   ]
  },
  {
   "cell_type": "code",
   "execution_count": 27,
   "metadata": {},
   "outputs": [
    {
     "data": {
      "text/html": [
       "<div>\n",
       "<style scoped>\n",
       "    .dataframe tbody tr th:only-of-type {\n",
       "        vertical-align: middle;\n",
       "    }\n",
       "\n",
       "    .dataframe tbody tr th {\n",
       "        vertical-align: top;\n",
       "    }\n",
       "\n",
       "    .dataframe thead th {\n",
       "        text-align: right;\n",
       "    }\n",
       "</style>\n",
       "<table border=\"1\" class=\"dataframe\">\n",
       "  <thead>\n",
       "    <tr style=\"text-align: right;\">\n",
       "      <th></th>\n",
       "      <th>genres</th>\n",
       "      <th>Profits</th>\n",
       "    </tr>\n",
       "  </thead>\n",
       "  <tbody>\n",
       "    <tr>\n",
       "      <th>0</th>\n",
       "      <td>Animation</td>\n",
       "      <td>2.193994e+08</td>\n",
       "    </tr>\n",
       "    <tr>\n",
       "      <th>1</th>\n",
       "      <td>Adventure</td>\n",
       "      <td>1.950899e+08</td>\n",
       "    </tr>\n",
       "    <tr>\n",
       "      <th>2</th>\n",
       "      <td>Musical</td>\n",
       "      <td>1.827323e+08</td>\n",
       "    </tr>\n",
       "    <tr>\n",
       "      <th>3</th>\n",
       "      <td>Sci-Fi</td>\n",
       "      <td>1.583860e+08</td>\n",
       "    </tr>\n",
       "    <tr>\n",
       "      <th>4</th>\n",
       "      <td>Fantasy</td>\n",
       "      <td>1.499609e+08</td>\n",
       "    </tr>\n",
       "    <tr>\n",
       "      <th>5</th>\n",
       "      <td>Action</td>\n",
       "      <td>1.140820e+08</td>\n",
       "    </tr>\n",
       "    <tr>\n",
       "      <th>6</th>\n",
       "      <td>Family</td>\n",
       "      <td>1.088953e+08</td>\n",
       "    </tr>\n",
       "    <tr>\n",
       "      <th>7</th>\n",
       "      <td>Comedy</td>\n",
       "      <td>6.927647e+07</td>\n",
       "    </tr>\n",
       "    <tr>\n",
       "      <th>8</th>\n",
       "      <td>Music</td>\n",
       "      <td>4.954076e+07</td>\n",
       "    </tr>\n",
       "    <tr>\n",
       "      <th>9</th>\n",
       "      <td>Thriller</td>\n",
       "      <td>4.933863e+07</td>\n",
       "    </tr>\n",
       "    <tr>\n",
       "      <th>10</th>\n",
       "      <td>Mystery</td>\n",
       "      <td>4.584911e+07</td>\n",
       "    </tr>\n",
       "    <tr>\n",
       "      <th>11</th>\n",
       "      <td>Sport</td>\n",
       "      <td>4.488471e+07</td>\n",
       "    </tr>\n",
       "    <tr>\n",
       "      <th>12</th>\n",
       "      <td>Horror</td>\n",
       "      <td>4.411236e+07</td>\n",
       "    </tr>\n",
       "    <tr>\n",
       "      <th>13</th>\n",
       "      <td>Biography</td>\n",
       "      <td>4.328009e+07</td>\n",
       "    </tr>\n",
       "    <tr>\n",
       "      <th>14</th>\n",
       "      <td>History</td>\n",
       "      <td>4.022224e+07</td>\n",
       "    </tr>\n",
       "    <tr>\n",
       "      <th>15</th>\n",
       "      <td>Romance</td>\n",
       "      <td>3.916424e+07</td>\n",
       "    </tr>\n",
       "    <tr>\n",
       "      <th>16</th>\n",
       "      <td>Documentary</td>\n",
       "      <td>3.810190e+07</td>\n",
       "    </tr>\n",
       "    <tr>\n",
       "      <th>17</th>\n",
       "      <td>Crime</td>\n",
       "      <td>3.680619e+07</td>\n",
       "    </tr>\n",
       "    <tr>\n",
       "      <th>18</th>\n",
       "      <td>Drama</td>\n",
       "      <td>3.569442e+07</td>\n",
       "    </tr>\n",
       "    <tr>\n",
       "      <th>19</th>\n",
       "      <td>War</td>\n",
       "      <td>2.942587e+07</td>\n",
       "    </tr>\n",
       "    <tr>\n",
       "      <th>20</th>\n",
       "      <td>Western</td>\n",
       "      <td>2.240685e+07</td>\n",
       "    </tr>\n",
       "    <tr>\n",
       "      <th>21</th>\n",
       "      <td>News</td>\n",
       "      <td>2.208677e+07</td>\n",
       "    </tr>\n",
       "    <tr>\n",
       "      <th>22</th>\n",
       "      <td>Reality-TV</td>\n",
       "      <td>-1.000000e+06</td>\n",
       "    </tr>\n",
       "  </tbody>\n",
       "</table>\n",
       "</div>"
      ],
      "text/plain": [
       "         genres       Profits\n",
       "0     Animation  2.193994e+08\n",
       "1     Adventure  1.950899e+08\n",
       "2       Musical  1.827323e+08\n",
       "3        Sci-Fi  1.583860e+08\n",
       "4       Fantasy  1.499609e+08\n",
       "5        Action  1.140820e+08\n",
       "6        Family  1.088953e+08\n",
       "7        Comedy  6.927647e+07\n",
       "8         Music  4.954076e+07\n",
       "9      Thriller  4.933863e+07\n",
       "10      Mystery  4.584911e+07\n",
       "11        Sport  4.488471e+07\n",
       "12       Horror  4.411236e+07\n",
       "13    Biography  4.328009e+07\n",
       "14      History  4.022224e+07\n",
       "15      Romance  3.916424e+07\n",
       "16  Documentary  3.810190e+07\n",
       "17        Crime  3.680619e+07\n",
       "18        Drama  3.569442e+07\n",
       "19          War  2.942587e+07\n",
       "20      Western  2.240685e+07\n",
       "21         News  2.208677e+07\n",
       "22   Reality-TV -1.000000e+06"
      ]
     },
     "execution_count": 27,
     "metadata": {},
     "output_type": "execute_result"
    }
   ],
   "source": [
    "# Group by genre and calculate the average profits\n",
    "df_genres_profits = df_profits_genres_exploded.groupby('genres')['Profits'].mean().sort_values(ascending=False).reset_index()\n",
    "df_genres_profits"
   ]
  },
  {
   "cell_type": "markdown",
   "metadata": {},
   "source": [
    "Some interesting changes. Let's plot this data in order to have a better view."
   ]
  },
  {
   "cell_type": "code",
   "execution_count": 28,
   "metadata": {},
   "outputs": [
    {
     "data": {
      "image/png": "[encoded data removed]",
      "text/plain": [
       "<Figure size 1008x720 with 1 Axes>"
      ]
     },
     "metadata": {
      "needs_background": "light"
     },
     "output_type": "display_data"
    }
   ],
   "source": [
    "#create a plot for the mean profits per movie genre with different colors for those in profit and those in losses.\n",
    "colors = df_genres_profits['Profits'].apply(lambda x: 'orange' if x < 0 else 'skyblue')\n",
    "\n",
    "fig, ax = plt.subplots(figsize = (14,10))\n",
    "\n",
    "ax.barh(df_genres_profits.genres, df_genres_profits.Profits,  color=colors)\n",
    "ax.set_ylabel(\"Movie Genres\")\n",
    "ax.set_xlabel(\"Average Profit($)\")\n",
    "ax.set_title(\"Average Profits of Different Movies Genres\")\n",
    "ax.set_xticks([-10000000,0,50000000,100000000,150000000,200000000])\n",
    "ax.set_xticklabels([\"-5,000,000\",\"0\",\"50,000,000\",\"100,000,000\",\"150,000,000\",\"200,000,000\"])\n",
    "ax.tick_params(axis='x', rotation=45);\n",
    "plt.show()"
   ]
  },
  {
   "cell_type": "markdown",
   "metadata": {},
   "source": [
    "Very interesting. On Average movies with **Animation** as part of their genres yielded the highest profits. Followed by movies with **Adventure** and/or **Musicals** as part of their genres as well.\n",
    "\n",
    "Movies with **Drama** as part of their genres despite being most common had relatively lower profits compared to the other genres.\n",
    "\n",
    "**Reality-TV** genre was worst performing with losses."
   ]
  },
  {
   "cell_type": "markdown",
   "metadata": {},
   "source": [
    "Movies with the **Animation** genre were less than 250 yet they yielded the most profits. **Adventure** films were also around 500 but the return on investment is very high.\n",
    "\n",
    "Could other factors be responsible for studios producing such lower numbers of these genres despite the higher returns?\n",
    "\n",
    "Let's analyze the next relationship between **budget** and **genre** and see."
   ]
  },
  {
   "cell_type": "code",
   "execution_count": 29,
   "metadata": {},
   "outputs": [
    {
     "data": {
      "text/html": [
       "<div>\n",
       "<style scoped>\n",
       "    .dataframe tbody tr th:only-of-type {\n",
       "        vertical-align: middle;\n",
       "    }\n",
       "\n",
       "    .dataframe tbody tr th {\n",
       "        vertical-align: top;\n",
       "    }\n",
       "\n",
       "    .dataframe thead th {\n",
       "        text-align: right;\n",
       "    }\n",
       "</style>\n",
       "<table border=\"1\" class=\"dataframe\">\n",
       "  <thead>\n",
       "    <tr style=\"text-align: right;\">\n",
       "      <th></th>\n",
       "      <th>genres</th>\n",
       "      <th>production_budget</th>\n",
       "    </tr>\n",
       "  </thead>\n",
       "  <tbody>\n",
       "    <tr>\n",
       "      <th>0</th>\n",
       "      <td>Adventure</td>\n",
       "      <td>8.722477e+07</td>\n",
       "    </tr>\n",
       "    <tr>\n",
       "      <th>1</th>\n",
       "      <td>Animation</td>\n",
       "      <td>8.039302e+07</td>\n",
       "    </tr>\n",
       "    <tr>\n",
       "      <th>2</th>\n",
       "      <td>Fantasy</td>\n",
       "      <td>6.591755e+07</td>\n",
       "    </tr>\n",
       "    <tr>\n",
       "      <th>3</th>\n",
       "      <td>Sci-Fi</td>\n",
       "      <td>6.428107e+07</td>\n",
       "    </tr>\n",
       "    <tr>\n",
       "      <th>4</th>\n",
       "      <td>Action</td>\n",
       "      <td>6.211357e+07</td>\n",
       "    </tr>\n",
       "    <tr>\n",
       "      <th>5</th>\n",
       "      <td>Family</td>\n",
       "      <td>4.708113e+07</td>\n",
       "    </tr>\n",
       "    <tr>\n",
       "      <th>6</th>\n",
       "      <td>Musical</td>\n",
       "      <td>3.939112e+07</td>\n",
       "    </tr>\n",
       "    <tr>\n",
       "      <th>7</th>\n",
       "      <td>Western</td>\n",
       "      <td>3.738200e+07</td>\n",
       "    </tr>\n",
       "    <tr>\n",
       "      <th>8</th>\n",
       "      <td>News</td>\n",
       "      <td>3.497143e+07</td>\n",
       "    </tr>\n",
       "    <tr>\n",
       "      <th>9</th>\n",
       "      <td>History</td>\n",
       "      <td>3.337667e+07</td>\n",
       "    </tr>\n",
       "    <tr>\n",
       "      <th>10</th>\n",
       "      <td>Comedy</td>\n",
       "      <td>3.303495e+07</td>\n",
       "    </tr>\n",
       "    <tr>\n",
       "      <th>11</th>\n",
       "      <td>Crime</td>\n",
       "      <td>2.726702e+07</td>\n",
       "    </tr>\n",
       "    <tr>\n",
       "      <th>12</th>\n",
       "      <td>Thriller</td>\n",
       "      <td>2.696671e+07</td>\n",
       "    </tr>\n",
       "    <tr>\n",
       "      <th>13</th>\n",
       "      <td>Documentary</td>\n",
       "      <td>2.519590e+07</td>\n",
       "    </tr>\n",
       "    <tr>\n",
       "      <th>14</th>\n",
       "      <td>Biography</td>\n",
       "      <td>2.513401e+07</td>\n",
       "    </tr>\n",
       "    <tr>\n",
       "      <th>15</th>\n",
       "      <td>Sport</td>\n",
       "      <td>2.473500e+07</td>\n",
       "    </tr>\n",
       "    <tr>\n",
       "      <th>16</th>\n",
       "      <td>War</td>\n",
       "      <td>2.388679e+07</td>\n",
       "    </tr>\n",
       "    <tr>\n",
       "      <th>17</th>\n",
       "      <td>Drama</td>\n",
       "      <td>2.361329e+07</td>\n",
       "    </tr>\n",
       "    <tr>\n",
       "      <th>18</th>\n",
       "      <td>Mystery</td>\n",
       "      <td>2.256773e+07</td>\n",
       "    </tr>\n",
       "    <tr>\n",
       "      <th>19</th>\n",
       "      <td>Romance</td>\n",
       "      <td>2.047887e+07</td>\n",
       "    </tr>\n",
       "    <tr>\n",
       "      <th>20</th>\n",
       "      <td>Horror</td>\n",
       "      <td>1.879702e+07</td>\n",
       "    </tr>\n",
       "    <tr>\n",
       "      <th>21</th>\n",
       "      <td>Music</td>\n",
       "      <td>1.592897e+07</td>\n",
       "    </tr>\n",
       "    <tr>\n",
       "      <th>22</th>\n",
       "      <td>Reality-TV</td>\n",
       "      <td>1.000000e+06</td>\n",
       "    </tr>\n",
       "  </tbody>\n",
       "</table>\n",
       "</div>"
      ],
      "text/plain": [
       "         genres  production_budget\n",
       "0     Adventure       8.722477e+07\n",
       "1     Animation       8.039302e+07\n",
       "2       Fantasy       6.591755e+07\n",
       "3        Sci-Fi       6.428107e+07\n",
       "4        Action       6.211357e+07\n",
       "5        Family       4.708113e+07\n",
       "6       Musical       3.939112e+07\n",
       "7       Western       3.738200e+07\n",
       "8          News       3.497143e+07\n",
       "9       History       3.337667e+07\n",
       "10       Comedy       3.303495e+07\n",
       "11        Crime       2.726702e+07\n",
       "12     Thriller       2.696671e+07\n",
       "13  Documentary       2.519590e+07\n",
       "14    Biography       2.513401e+07\n",
       "15        Sport       2.473500e+07\n",
       "16          War       2.388679e+07\n",
       "17        Drama       2.361329e+07\n",
       "18      Mystery       2.256773e+07\n",
       "19      Romance       2.047887e+07\n",
       "20       Horror       1.879702e+07\n",
       "21        Music       1.592897e+07\n",
       "22   Reality-TV       1.000000e+06"
      ]
     },
     "execution_count": 29,
     "metadata": {},
     "output_type": "execute_result"
    }
   ],
   "source": [
    "# Group by genre and calculate the average production budgets\n",
    "df_genres_budget = df_profits_genres_exploded.groupby('genres')['production_budget'].mean().sort_values(ascending=False).reset_index()\n",
    "df_genres_budget"
   ]
  },
  {
   "cell_type": "markdown",
   "metadata": {},
   "source": [
    "Let's plot the data to get a better understanding of the budget figures."
   ]
  },
  {
   "cell_type": "code",
   "execution_count": 30,
   "metadata": {},
   "outputs": [
    {
     "data": {
      "image/png": "[encoded data removed]",
      "text/plain": [
       "<Figure size 1008x720 with 1 Axes>"
      ]
     },
     "metadata": {
      "needs_background": "light"
     },
     "output_type": "display_data"
    }
   ],
   "source": [
    "#create a plot for the mean production budgets for different genres.\n",
    "fig, ax = plt.subplots(figsize = (14,10))\n",
    "\n",
    "ax.barh(df_genres_budget.genres, df_genres_budget.production_budget)\n",
    "ax.set_ylabel(\"Movie Genres\")\n",
    "ax.set_xlabel(\"Average Budget Amount in $ (10,000,000)\")\n",
    "ax.set_title(\"Production Budgets for Different Movie Genres\");\n",
    "plt.show()"
   ]
  },
  {
   "cell_type": "markdown",
   "metadata": {},
   "source": [
    "So on **average** movie studios spent more money to make **Adventure** and **Animation** films which could explain why they produce fewer numbers of them. Average budget for an Animation or Adventure movie is over $80,000,000.\n",
    "\n",
    "**Drama** genres are relatively cheaper to produce costing slightly over $20,000,000 which can explain why studios produce them in higher numbers."
   ]
  },
  {
   "cell_type": "markdown",
   "metadata": {},
   "source": [
    "Let's now analyze another relationship between **Movie original language** and **profit**. Do movies produced in specific languages have better box performances?\n",
    "\n",
    "The Movie DB has an **original language** column we can use."
   ]
  },
  {
   "cell_type": "code",
   "execution_count": 32,
   "metadata": {},
   "outputs": [
    {
     "data": {
      "text/plain": [
       "\" Incase of ValueError: Table 'tmdb_movies' already exists.\\nproceed with running the subsequent cells \""
      ]
     },
     "execution_count": 32,
     "metadata": {},
     "output_type": "execute_result"
    }
   ],
   "source": [
    "# reading the movie db tbale with sql\n",
    "#df_tmovie_db.to_sql(\"tmdb_movies\", conn, index= False)\n",
    "\"\"\" Incase of ValueError: Table 'tmdb_movies' already exists.\n",
    "proceed with running the subsequent cells \"\"\""
   ]
  },
  {
   "cell_type": "code",
   "execution_count": 34,
   "metadata": {},
   "outputs": [
    {
     "data": {
      "text/plain": [
       "\"Incase of ValueError: Table 'profits_3' already exists, proceed with running the subsequent cells \""
      ]
     },
     "execution_count": 34,
     "metadata": {},
     "output_type": "execute_result"
    }
   ],
   "source": [
    "#reading the profits_genre exploded dataframe in sql\n",
    "#df_profits_genres_exploded.to_sql(\"profits_3\", conn)\n",
    "\"\"\"Incase of ValueError: Table 'profits_3' already exists, proceed with running the subsequent cells \"\"\""
   ]
  },
  {
   "cell_type": "markdown",
   "metadata": {},
   "source": [
    "Let's combine data from both tables and analyze the relationship between **original movie language** and **mean profits for each language**."
   ]
  },
  {
   "cell_type": "code",
   "execution_count": 35,
   "metadata": {},
   "outputs": [
    {
     "data": {
      "text/html": [
       "<div>\n",
       "<style scoped>\n",
       "    .dataframe tbody tr th:only-of-type {\n",
       "        vertical-align: middle;\n",
       "    }\n",
       "\n",
       "    .dataframe tbody tr th {\n",
       "        vertical-align: top;\n",
       "    }\n",
       "\n",
       "    .dataframe thead th {\n",
       "        text-align: right;\n",
       "    }\n",
       "</style>\n",
       "<table border=\"1\" class=\"dataframe\">\n",
       "  <thead>\n",
       "    <tr style=\"text-align: right;\">\n",
       "      <th></th>\n",
       "      <th>original_language</th>\n",
       "      <th>Profits</th>\n",
       "    </tr>\n",
       "  </thead>\n",
       "  <tbody>\n",
       "    <tr>\n",
       "      <th>0</th>\n",
       "      <td>en</td>\n",
       "      <td>329870992.0</td>\n",
       "    </tr>\n",
       "    <tr>\n",
       "      <th>1</th>\n",
       "      <td>en</td>\n",
       "      <td>329870992.0</td>\n",
       "    </tr>\n",
       "    <tr>\n",
       "      <th>2</th>\n",
       "      <td>en</td>\n",
       "      <td>329870992.0</td>\n",
       "    </tr>\n",
       "    <tr>\n",
       "      <th>3</th>\n",
       "      <td>en</td>\n",
       "      <td>451156389.0</td>\n",
       "    </tr>\n",
       "    <tr>\n",
       "      <th>4</th>\n",
       "      <td>en</td>\n",
       "      <td>451156389.0</td>\n",
       "    </tr>\n",
       "  </tbody>\n",
       "</table>\n",
       "</div>"
      ],
      "text/plain": [
       "  original_language      Profits\n",
       "0                en  329870992.0\n",
       "1                en  329870992.0\n",
       "2                en  329870992.0\n",
       "3                en  451156389.0\n",
       "4                en  451156389.0"
      ]
     },
     "execution_count": 35,
     "metadata": {},
     "output_type": "execute_result"
    }
   ],
   "source": [
    "# Creating a new table that has a movies original language and its profits\n",
    "language_profits = pd.read_sql(\"\"\"\n",
    "SELECT original_language, Profits\n",
    "FROM tmdb_movies as a\n",
    "JOIN profits_3 as b\n",
    "ON b.primary_title = a.original_title\n",
    "            \"\"\",conn)\n",
    "\n",
    "language_profits.head()"
   ]
  },
  {
   "cell_type": "code",
   "execution_count": 36,
   "metadata": {},
   "outputs": [
    {
     "data": {
      "text/html": [
       "<div>\n",
       "<style scoped>\n",
       "    .dataframe tbody tr th:only-of-type {\n",
       "        vertical-align: middle;\n",
       "    }\n",
       "\n",
       "    .dataframe tbody tr th {\n",
       "        vertical-align: top;\n",
       "    }\n",
       "\n",
       "    .dataframe thead th {\n",
       "        text-align: right;\n",
       "    }\n",
       "</style>\n",
       "<table border=\"1\" class=\"dataframe\">\n",
       "  <thead>\n",
       "    <tr style=\"text-align: right;\">\n",
       "      <th></th>\n",
       "      <th>original_language</th>\n",
       "      <th>Profits</th>\n",
       "    </tr>\n",
       "  </thead>\n",
       "  <tbody>\n",
       "    <tr>\n",
       "      <th>0</th>\n",
       "      <td>en</td>\n",
       "      <td>3.298710e+08</td>\n",
       "    </tr>\n",
       "    <tr>\n",
       "      <th>3</th>\n",
       "      <td>en</td>\n",
       "      <td>4.511564e+08</td>\n",
       "    </tr>\n",
       "    <tr>\n",
       "      <th>6</th>\n",
       "      <td>en</td>\n",
       "      <td>6.755246e+08</td>\n",
       "    </tr>\n",
       "    <tr>\n",
       "      <th>9</th>\n",
       "      <td>en</td>\n",
       "      <td>1.280509e+08</td>\n",
       "    </tr>\n",
       "    <tr>\n",
       "      <th>12</th>\n",
       "      <td>en</td>\n",
       "      <td>2.351345e+09</td>\n",
       "    </tr>\n",
       "  </tbody>\n",
       "</table>\n",
       "</div>"
      ],
      "text/plain": [
       "   original_language       Profits\n",
       "0                 en  3.298710e+08\n",
       "3                 en  4.511564e+08\n",
       "6                 en  6.755246e+08\n",
       "9                 en  1.280509e+08\n",
       "12                en  2.351345e+09"
      ]
     },
     "execution_count": 36,
     "metadata": {},
     "output_type": "execute_result"
    }
   ],
   "source": [
    "#dropping duplicates form the new  language_profits table\n",
    "language_profits.drop_duplicates().head()"
   ]
  },
  {
   "cell_type": "markdown",
   "metadata": {},
   "source": [
    "Let's have a look at the **different languages** present in our table."
   ]
  },
  {
   "cell_type": "code",
   "execution_count": 37,
   "metadata": {},
   "outputs": [
    {
     "data": {
      "text/plain": [
       "en    8496\n",
       "fr      53\n",
       "es      50\n",
       "hi      20\n",
       "de      17\n",
       "ar      14\n",
       "pt      11\n",
       "tl      10\n",
       "it      10\n",
       "th      10\n",
       "et      10\n",
       "ko       6\n",
       "da       6\n",
       "fi       3\n",
       "gu       3\n",
       "ur       3\n",
       "xx       2\n",
       "te       2\n",
       "fa       1\n",
       "pl       1\n",
       "tr       1\n",
       "Name: original_language, dtype: int64"
      ]
     },
     "execution_count": 37,
     "metadata": {},
     "output_type": "execute_result"
    }
   ],
   "source": [
    "#displaying all the unique languages \n",
    "language_profits[\"original_language\"].value_counts()"
   ]
  },
  {
   "cell_type": "markdown",
   "metadata": {},
   "source": [
    "The languages are not easily interpretable due to their abbreviations. Let's improve that for visibility and aggregate the **mean profits** netted by each language category."
   ]
  },
  {
   "cell_type": "code",
   "execution_count": 38,
   "metadata": {},
   "outputs": [
    {
     "data": {
      "text/html": [
       "<div>\n",
       "<style scoped>\n",
       "    .dataframe tbody tr th:only-of-type {\n",
       "        vertical-align: middle;\n",
       "    }\n",
       "\n",
       "    .dataframe tbody tr th {\n",
       "        vertical-align: top;\n",
       "    }\n",
       "\n",
       "    .dataframe thead th {\n",
       "        text-align: right;\n",
       "    }\n",
       "</style>\n",
       "<table border=\"1\" class=\"dataframe\">\n",
       "  <thead>\n",
       "    <tr style=\"text-align: right;\">\n",
       "      <th></th>\n",
       "      <th>original_language</th>\n",
       "      <th>Profits</th>\n",
       "    </tr>\n",
       "  </thead>\n",
       "  <tbody>\n",
       "    <tr>\n",
       "      <th>0</th>\n",
       "      <td>Telugu</td>\n",
       "      <td>2.335029e+08</td>\n",
       "    </tr>\n",
       "    <tr>\n",
       "      <th>1</th>\n",
       "      <td>English</td>\n",
       "      <td>8.229358e+07</td>\n",
       "    </tr>\n",
       "    <tr>\n",
       "      <th>2</th>\n",
       "      <td>Thai</td>\n",
       "      <td>3.074923e+07</td>\n",
       "    </tr>\n",
       "    <tr>\n",
       "      <th>3</th>\n",
       "      <td>Korean</td>\n",
       "      <td>1.741706e+07</td>\n",
       "    </tr>\n",
       "    <tr>\n",
       "      <th>4</th>\n",
       "      <td>German</td>\n",
       "      <td>1.723475e+07</td>\n",
       "    </tr>\n",
       "  </tbody>\n",
       "</table>\n",
       "</div>"
      ],
      "text/plain": [
       "  original_language       Profits\n",
       "0            Telugu  2.335029e+08\n",
       "1           English  8.229358e+07\n",
       "2              Thai  3.074923e+07\n",
       "3            Korean  1.741706e+07\n",
       "4            German  1.723475e+07"
      ]
     },
     "execution_count": 38,
     "metadata": {},
     "output_type": "execute_result"
    }
   ],
   "source": [
    "#group the movie language by mean profits for each language category\n",
    "df_language_profits = language_profits.groupby('original_language')['Profits'].mean().sort_values(ascending=False).reset_index()\n",
    "\n",
    "#substitute the laguage abbreviations with full names\n",
    "abbr = {\"en\": \"English\",\n",
    "\"fr\": \"French\",\n",
    "\"es\": \"Spanish\",\n",
    "\"hi\": \"Hindi\",\n",
    "\"de\": \"German\",\n",
    "\"ar\": \"Arabic\",\n",
    "\"pt\": \"Portuguese\",\n",
    "\"tl\": \"Tagalog\",\n",
    "\"it\": \"Italian\",\n",
    "\"th\": \"Thai\",\n",
    "\"et\": \"Estonian\",\n",
    "\"da\":\"Danish\",\n",
    "\"ko\": \"Korean\",\n",
    "\"ur\": \"Urdu\",\n",
    "\"gu\": \"Gujarati\",\n",
    "\"fi\": \"Finnish\",\n",
    "\"te\": \"Telugu\",\n",
    "\"xx\": \"Unknown / No Language\",\n",
    "\"tr\": \"Turkish\",\n",
    "\"fa\": \"Persian (Farsi)\",\n",
    "\"pl\": \"Polish\"}\n",
    "\n",
    "df_language_profits[\"original_language\"] = df_language_profits[\"original_language\"].map(abbr)\n",
    "df_language_profits.head()"
   ]
  },
  {
   "cell_type": "markdown",
   "metadata": {},
   "source": [
    "Great, now let's plot the data."
   ]
  },
  {
   "cell_type": "code",
   "execution_count": 39,
   "metadata": {},
   "outputs": [
    {
     "data": {
      "image/png": "[encoded data removed]",
      "text/plain": [
       "<Figure size 1008x720 with 1 Axes>"
      ]
     },
     "metadata": {
      "needs_background": "light"
     },
     "output_type": "display_data"
    }
   ],
   "source": [
    "#create a plot for the mean profits per language category with different colors for those in profit and those in losses.\n",
    "colors = df_language_profits['Profits'].apply(lambda x: 'orange' if x < 0 else 'purple')\n",
    "\n",
    "fig, ax = plt.subplots(figsize = (14,10))\n",
    "\n",
    "ax.barh(df_language_profits.original_language, df_language_profits.Profits , color = colors)\n",
    "ax.set_ylabel(\"Original Language\")\n",
    "ax.set_xlabel(\"Average Profits in $ (10,000,000)\")\n",
    "ax.set_title(\"Original Languages Against Profits\");\n",
    "plt.show()"
   ]
  },
  {
   "cell_type": "markdown",
   "metadata": {},
   "source": [
    "\n",
    "From the plot we can conclude that **Telugu** has a strong regional following in India(Bollywood) so it has a mass audience hence the higher average profit. **English** films dominate the global market due to their widespread appeal and the influence of Hollywood, which benefits from substantial marketing budgets and a large distribution .\n",
    "\n",
    "There are chances that Turkish struggles with smaller domestic market and limited international appeal hence leading to lower profits.\n",
    "\n",
    "The popularity of **Turkish**, **Portuguese**, **Spanish**, **Urdu**, **Arabic**, and **Finnish** varies when language-based market performance is examined; nonetheless, Turkish stands out as being especially the riskiest venture due to the its highest average loss. This could represent a small audience.\n",
    "\n"
   ]
  },
  {
   "cell_type": "markdown",
   "metadata": {},
   "source": [
    "Next, let's investigate the relationship between a movie's **release schedule** and its **box office performance**. Do movies released in certain **months** or **seasons** perform better than other months?"
   ]
  },
  {
   "cell_type": "code",
   "execution_count": 40,
   "metadata": {},
   "outputs": [
    {
     "data": {
      "text/plain": [
       "0        December\n",
       "1             May\n",
       "2            June\n",
       "3             May\n",
       "4        December\n",
       "          ...    \n",
       "5777     December\n",
       "5778        April\n",
       "5779         July\n",
       "5780    September\n",
       "5781       August\n",
       "Name: Months, Length: 5782, dtype: object"
      ]
     },
     "execution_count": 40,
     "metadata": {},
     "output_type": "execute_result"
    }
   ],
   "source": [
    "#convert the release_date variable to datetime data type\n",
    "df_tn_movie_budgets[\"release_date\"]= pd.to_datetime(df_tn_movie_budgets[\"release_date\"])\n",
    "#extract the month from each record.\n",
    "df_tn_movie_budgets[\"Months\"]= df_tn_movie_budgets[\"release_date\"].dt.month_name()\n",
    "df_tn_movie_budgets[\"Months\"]"
   ]
  },
  {
   "cell_type": "markdown",
   "metadata": {},
   "source": [
    "Let's aggregate the **mean profits** generated by movies released in each month of the year."
   ]
  },
  {
   "cell_type": "code",
   "execution_count": 41,
   "metadata": {},
   "outputs": [
    {
     "data": {
      "text/html": [
       "<div>\n",
       "<style scoped>\n",
       "    .dataframe tbody tr th:only-of-type {\n",
       "        vertical-align: middle;\n",
       "    }\n",
       "\n",
       "    .dataframe tbody tr th {\n",
       "        vertical-align: top;\n",
       "    }\n",
       "\n",
       "    .dataframe thead th {\n",
       "        text-align: right;\n",
       "    }\n",
       "</style>\n",
       "<table border=\"1\" class=\"dataframe\">\n",
       "  <thead>\n",
       "    <tr style=\"text-align: right;\">\n",
       "      <th></th>\n",
       "      <th>Months</th>\n",
       "      <th>Profits</th>\n",
       "    </tr>\n",
       "  </thead>\n",
       "  <tbody>\n",
       "    <tr>\n",
       "      <th>0</th>\n",
       "      <td>May</td>\n",
       "      <td>1.151328e+08</td>\n",
       "    </tr>\n",
       "    <tr>\n",
       "      <th>1</th>\n",
       "      <td>June</td>\n",
       "      <td>9.942391e+07</td>\n",
       "    </tr>\n",
       "    <tr>\n",
       "      <th>2</th>\n",
       "      <td>July</td>\n",
       "      <td>9.841746e+07</td>\n",
       "    </tr>\n",
       "    <tr>\n",
       "      <th>3</th>\n",
       "      <td>November</td>\n",
       "      <td>9.314157e+07</td>\n",
       "    </tr>\n",
       "    <tr>\n",
       "      <th>4</th>\n",
       "      <td>December</td>\n",
       "      <td>6.844157e+07</td>\n",
       "    </tr>\n",
       "    <tr>\n",
       "      <th>5</th>\n",
       "      <td>March</td>\n",
       "      <td>4.985129e+07</td>\n",
       "    </tr>\n",
       "    <tr>\n",
       "      <th>6</th>\n",
       "      <td>February</td>\n",
       "      <td>4.349811e+07</td>\n",
       "    </tr>\n",
       "    <tr>\n",
       "      <th>7</th>\n",
       "      <td>April</td>\n",
       "      <td>3.611743e+07</td>\n",
       "    </tr>\n",
       "    <tr>\n",
       "      <th>8</th>\n",
       "      <td>August</td>\n",
       "      <td>3.542232e+07</td>\n",
       "    </tr>\n",
       "    <tr>\n",
       "      <th>9</th>\n",
       "      <td>October</td>\n",
       "      <td>2.907190e+07</td>\n",
       "    </tr>\n",
       "    <tr>\n",
       "      <th>10</th>\n",
       "      <td>January</td>\n",
       "      <td>2.572033e+07</td>\n",
       "    </tr>\n",
       "    <tr>\n",
       "      <th>11</th>\n",
       "      <td>September</td>\n",
       "      <td>2.488078e+07</td>\n",
       "    </tr>\n",
       "  </tbody>\n",
       "</table>\n",
       "</div>"
      ],
      "text/plain": [
       "       Months       Profits\n",
       "0         May  1.151328e+08\n",
       "1        June  9.942391e+07\n",
       "2        July  9.841746e+07\n",
       "3    November  9.314157e+07\n",
       "4    December  6.844157e+07\n",
       "5       March  4.985129e+07\n",
       "6    February  4.349811e+07\n",
       "7       April  3.611743e+07\n",
       "8      August  3.542232e+07\n",
       "9     October  2.907190e+07\n",
       "10    January  2.572033e+07\n",
       "11  September  2.488078e+07"
      ]
     },
     "execution_count": 41,
     "metadata": {},
     "output_type": "execute_result"
    }
   ],
   "source": [
    "#convert the profits column to numeric float data type\n",
    "df_tn_movie_budgets.Profits = df_tn_movie_budgets.Profits.astype(str).str.replace(\",\",\"\")\n",
    "df_tn_movie_budgets.Profits = df_tn_movie_budgets.Profits.astype(float)\n",
    "\n",
    "#group the months by mean profts generated by movies released that month.\n",
    "df_grouped = df_tn_movie_budgets.groupby('Months')['Profits'].mean().sort_values(ascending= False).reset_index()\n",
    "df_grouped"
   ]
  },
  {
   "cell_type": "markdown",
   "metadata": {},
   "source": [
    "Let's plot the data."
   ]
  },
  {
   "cell_type": "code",
   "execution_count": 42,
   "metadata": {},
   "outputs": [
    {
     "data": {
      "image/png": "[encoded data removed]",
      "text/plain": [
       "<Figure size 1008x720 with 1 Axes>"
      ]
     },
     "metadata": {
      "needs_background": "light"
     },
     "output_type": "display_data"
    }
   ],
   "source": [
    "#create a plot for the mean profits per month of movie release.\n",
    "fig, ax = plt.subplots(figsize = (14,10))\n",
    "\n",
    "ax.plot(df_grouped.Months, df_grouped.Profits)\n",
    "ax.set_ylabel(\"Average Profits in $ 100,000,000\")\n",
    "ax.set_xlabel(\"Months\")\n",
    "ax.set_title(\"Average Profits vs Release Schedule\");\n",
    "plt.show()"
   ]
  },
  {
   "cell_type": "markdown",
   "metadata": {},
   "source": [
    "From the plot, movies released in the **subsequent months of May, June, July** are clearly the most profitable.\n",
    "\n",
    "In the film industry, certain months tend to be more profitable due to a combination of seasonal factors, holiday seasons, and strategic release patterns. Here’s a breakdown of potential explanations:\n",
    "\n",
    "Summer Blockbusters **(May to July)**: This is traditionally a peak release period for blockbuster films. Many people are on vacation or school breaks, making it a prime time for movie studios to release high-budget, high-appeal films aimed at attracting large audiences.\n",
    "\n",
    "Holiday Season **(November and December)**: The holiday season, especially around Thanksgiving in the U.S. and Christmas globally, is another profitable period. Families and friends often go to the movies together, and studios frequently release high-quality films to capture the holiday audience.\n",
    "\n",
    "Post-holiday and Back-to-school slumps **(January and September)**: January comes after the christmas holiday spending and audience numbers drop. Both months are also affected by re-opening of schools and school related expenses."
   ]
  },
  {
   "cell_type": "markdown",
   "metadata": {},
   "source": [
    "Very interesting, but do the same **release schedules** affect **movie genres**? Are there genres that are more popular during specific months of the year? e.g do some genres do better when they are realesed during holiday seasons?\n",
    "\n",
    "Let's investigate this releationship next. We will find the **top 6** genres in each month by their frequency. "
   ]
  },
  {
   "cell_type": "code",
   "execution_count": 43,
   "metadata": {},
   "outputs": [
    {
     "data": {
      "text/html": [
       "<div>\n",
       "<style scoped>\n",
       "    .dataframe tbody tr th:only-of-type {\n",
       "        vertical-align: middle;\n",
       "    }\n",
       "\n",
       "    .dataframe tbody tr th {\n",
       "        vertical-align: top;\n",
       "    }\n",
       "\n",
       "    .dataframe thead th {\n",
       "        text-align: right;\n",
       "    }\n",
       "</style>\n",
       "<table border=\"1\" class=\"dataframe\">\n",
       "  <thead>\n",
       "    <tr style=\"text-align: right;\">\n",
       "      <th></th>\n",
       "      <th>Months</th>\n",
       "      <th>genres</th>\n",
       "      <th>count</th>\n",
       "    </tr>\n",
       "  </thead>\n",
       "  <tbody>\n",
       "    <tr>\n",
       "      <th>0</th>\n",
       "      <td>April</td>\n",
       "      <td>Drama</td>\n",
       "      <td>166</td>\n",
       "    </tr>\n",
       "    <tr>\n",
       "      <th>1</th>\n",
       "      <td>April</td>\n",
       "      <td>Comedy</td>\n",
       "      <td>75</td>\n",
       "    </tr>\n",
       "    <tr>\n",
       "      <th>2</th>\n",
       "      <td>April</td>\n",
       "      <td>Documentary</td>\n",
       "      <td>54</td>\n",
       "    </tr>\n",
       "    <tr>\n",
       "      <th>3</th>\n",
       "      <td>April</td>\n",
       "      <td>Horror</td>\n",
       "      <td>54</td>\n",
       "    </tr>\n",
       "    <tr>\n",
       "      <th>4</th>\n",
       "      <td>April</td>\n",
       "      <td>Thriller</td>\n",
       "      <td>54</td>\n",
       "    </tr>\n",
       "    <tr>\n",
       "      <th>5</th>\n",
       "      <td>April</td>\n",
       "      <td>Action</td>\n",
       "      <td>47</td>\n",
       "    </tr>\n",
       "    <tr>\n",
       "      <th>6</th>\n",
       "      <td>August</td>\n",
       "      <td>Drama</td>\n",
       "      <td>153</td>\n",
       "    </tr>\n",
       "    <tr>\n",
       "      <th>7</th>\n",
       "      <td>August</td>\n",
       "      <td>Action</td>\n",
       "      <td>62</td>\n",
       "    </tr>\n",
       "    <tr>\n",
       "      <th>8</th>\n",
       "      <td>August</td>\n",
       "      <td>Thriller</td>\n",
       "      <td>60</td>\n",
       "    </tr>\n",
       "    <tr>\n",
       "      <th>9</th>\n",
       "      <td>August</td>\n",
       "      <td>Comedy</td>\n",
       "      <td>57</td>\n",
       "    </tr>\n",
       "  </tbody>\n",
       "</table>\n",
       "</div>"
      ],
      "text/plain": [
       "   Months       genres  count\n",
       "0   April        Drama    166\n",
       "1   April       Comedy     75\n",
       "2   April  Documentary     54\n",
       "3   April       Horror     54\n",
       "4   April     Thriller     54\n",
       "5   April       Action     47\n",
       "6  August        Drama    153\n",
       "7  August       Action     62\n",
       "8  August     Thriller     60\n",
       "9  August       Comedy     57"
      ]
     },
     "execution_count": 43,
     "metadata": {},
     "output_type": "execute_result"
    }
   ],
   "source": [
    "#change the release_date from object to date time format\n",
    "df_profits_genres_exploded[\"release_date\"]= pd.to_datetime(df_profits_genres_exploded[\"release_date\"])\n",
    "\n",
    "#create months column and get only the month from the release_date.\n",
    "df_profits_genres_exploded[\"Months\"]= df_profits_genres_exploded[\"release_date\"].dt.month_name()\n",
    "\n",
    "#Group the df_profits_genres_exploded by the months and genres column. \n",
    "#Aggregate by the size and sort the values in descending\n",
    "df_profits_genres_exploded_grouped = df_profits_genres_exploded.groupby(['Months','genres']).size().reset_index(name = 'count')\n",
    "\n",
    "#group the df_profits_genres_exploded_grouped table formed above by months and only get the maximum count for every genre.\n",
    "top_genres_per_month = df_profits_genres_exploded_grouped.groupby('Months').apply(lambda x: x.nlargest(6, 'count')).reset_index(drop=True)\n",
    "#Display the first ten\n",
    "top_genres_per_month.head(10)"
   ]
  },
  {
   "cell_type": "markdown",
   "metadata": {},
   "source": [
    "This data would be more readable with a pivot table."
   ]
  },
  {
   "cell_type": "code",
   "execution_count": 44,
   "metadata": {},
   "outputs": [
    {
     "data": {
      "text/html": [
       "<div>\n",
       "<style scoped>\n",
       "    .dataframe tbody tr th:only-of-type {\n",
       "        vertical-align: middle;\n",
       "    }\n",
       "\n",
       "    .dataframe tbody tr th {\n",
       "        vertical-align: top;\n",
       "    }\n",
       "\n",
       "    .dataframe thead th {\n",
       "        text-align: right;\n",
       "    }\n",
       "</style>\n",
       "<table border=\"1\" class=\"dataframe\">\n",
       "  <thead>\n",
       "    <tr style=\"text-align: right;\">\n",
       "      <th>genres</th>\n",
       "      <th>Action</th>\n",
       "      <th>Adventure</th>\n",
       "      <th>Biography</th>\n",
       "      <th>Comedy</th>\n",
       "      <th>Crime</th>\n",
       "      <th>Documentary</th>\n",
       "      <th>Drama</th>\n",
       "      <th>Horror</th>\n",
       "      <th>Thriller</th>\n",
       "    </tr>\n",
       "    <tr>\n",
       "      <th>Months</th>\n",
       "      <th></th>\n",
       "      <th></th>\n",
       "      <th></th>\n",
       "      <th></th>\n",
       "      <th></th>\n",
       "      <th></th>\n",
       "      <th></th>\n",
       "      <th></th>\n",
       "      <th></th>\n",
       "    </tr>\n",
       "  </thead>\n",
       "  <tbody>\n",
       "    <tr>\n",
       "      <th>April</th>\n",
       "      <td>47.0</td>\n",
       "      <td>0.0</td>\n",
       "      <td>0.0</td>\n",
       "      <td>75.0</td>\n",
       "      <td>0.0</td>\n",
       "      <td>54.0</td>\n",
       "      <td>166.0</td>\n",
       "      <td>54.0</td>\n",
       "      <td>54.0</td>\n",
       "    </tr>\n",
       "    <tr>\n",
       "      <th>August</th>\n",
       "      <td>62.0</td>\n",
       "      <td>0.0</td>\n",
       "      <td>0.0</td>\n",
       "      <td>57.0</td>\n",
       "      <td>41.0</td>\n",
       "      <td>0.0</td>\n",
       "      <td>153.0</td>\n",
       "      <td>39.0</td>\n",
       "      <td>60.0</td>\n",
       "    </tr>\n",
       "    <tr>\n",
       "      <th>December</th>\n",
       "      <td>78.0</td>\n",
       "      <td>64.0</td>\n",
       "      <td>0.0</td>\n",
       "      <td>105.0</td>\n",
       "      <td>0.0</td>\n",
       "      <td>54.0</td>\n",
       "      <td>252.0</td>\n",
       "      <td>0.0</td>\n",
       "      <td>66.0</td>\n",
       "    </tr>\n",
       "    <tr>\n",
       "      <th>February</th>\n",
       "      <td>54.0</td>\n",
       "      <td>37.0</td>\n",
       "      <td>0.0</td>\n",
       "      <td>52.0</td>\n",
       "      <td>0.0</td>\n",
       "      <td>39.0</td>\n",
       "      <td>111.0</td>\n",
       "      <td>0.0</td>\n",
       "      <td>43.0</td>\n",
       "    </tr>\n",
       "    <tr>\n",
       "      <th>January</th>\n",
       "      <td>53.0</td>\n",
       "      <td>0.0</td>\n",
       "      <td>0.0</td>\n",
       "      <td>47.0</td>\n",
       "      <td>31.0</td>\n",
       "      <td>0.0</td>\n",
       "      <td>121.0</td>\n",
       "      <td>30.0</td>\n",
       "      <td>48.0</td>\n",
       "    </tr>\n",
       "    <tr>\n",
       "      <th>July</th>\n",
       "      <td>59.0</td>\n",
       "      <td>48.0</td>\n",
       "      <td>0.0</td>\n",
       "      <td>85.0</td>\n",
       "      <td>0.0</td>\n",
       "      <td>33.0</td>\n",
       "      <td>104.0</td>\n",
       "      <td>0.0</td>\n",
       "      <td>36.0</td>\n",
       "    </tr>\n",
       "    <tr>\n",
       "      <th>June</th>\n",
       "      <td>69.0</td>\n",
       "      <td>55.0</td>\n",
       "      <td>0.0</td>\n",
       "      <td>78.0</td>\n",
       "      <td>0.0</td>\n",
       "      <td>48.0</td>\n",
       "      <td>140.0</td>\n",
       "      <td>0.0</td>\n",
       "      <td>31.0</td>\n",
       "    </tr>\n",
       "    <tr>\n",
       "      <th>March</th>\n",
       "      <td>61.0</td>\n",
       "      <td>49.0</td>\n",
       "      <td>0.0</td>\n",
       "      <td>73.0</td>\n",
       "      <td>0.0</td>\n",
       "      <td>48.0</td>\n",
       "      <td>155.0</td>\n",
       "      <td>0.0</td>\n",
       "      <td>47.0</td>\n",
       "    </tr>\n",
       "    <tr>\n",
       "      <th>May</th>\n",
       "      <td>55.0</td>\n",
       "      <td>46.0</td>\n",
       "      <td>0.0</td>\n",
       "      <td>70.0</td>\n",
       "      <td>0.0</td>\n",
       "      <td>39.0</td>\n",
       "      <td>108.0</td>\n",
       "      <td>0.0</td>\n",
       "      <td>34.0</td>\n",
       "    </tr>\n",
       "    <tr>\n",
       "      <th>November</th>\n",
       "      <td>55.0</td>\n",
       "      <td>52.0</td>\n",
       "      <td>35.0</td>\n",
       "      <td>67.0</td>\n",
       "      <td>0.0</td>\n",
       "      <td>0.0</td>\n",
       "      <td>156.0</td>\n",
       "      <td>0.0</td>\n",
       "      <td>40.0</td>\n",
       "    </tr>\n",
       "    <tr>\n",
       "      <th>October</th>\n",
       "      <td>47.0</td>\n",
       "      <td>0.0</td>\n",
       "      <td>0.0</td>\n",
       "      <td>69.0</td>\n",
       "      <td>0.0</td>\n",
       "      <td>49.0</td>\n",
       "      <td>188.0</td>\n",
       "      <td>50.0</td>\n",
       "      <td>65.0</td>\n",
       "    </tr>\n",
       "    <tr>\n",
       "      <th>September</th>\n",
       "      <td>70.0</td>\n",
       "      <td>0.0</td>\n",
       "      <td>0.0</td>\n",
       "      <td>64.0</td>\n",
       "      <td>45.0</td>\n",
       "      <td>0.0</td>\n",
       "      <td>163.0</td>\n",
       "      <td>50.0</td>\n",
       "      <td>70.0</td>\n",
       "    </tr>\n",
       "  </tbody>\n",
       "</table>\n",
       "</div>"
      ],
      "text/plain": [
       "genres     Action  Adventure  Biography  Comedy  Crime  Documentary  Drama  \\\n",
       "Months                                                                       \n",
       "April        47.0        0.0        0.0    75.0    0.0         54.0  166.0   \n",
       "August       62.0        0.0        0.0    57.0   41.0          0.0  153.0   \n",
       "December     78.0       64.0        0.0   105.0    0.0         54.0  252.0   \n",
       "February     54.0       37.0        0.0    52.0    0.0         39.0  111.0   \n",
       "January      53.0        0.0        0.0    47.0   31.0          0.0  121.0   \n",
       "July         59.0       48.0        0.0    85.0    0.0         33.0  104.0   \n",
       "June         69.0       55.0        0.0    78.0    0.0         48.0  140.0   \n",
       "March        61.0       49.0        0.0    73.0    0.0         48.0  155.0   \n",
       "May          55.0       46.0        0.0    70.0    0.0         39.0  108.0   \n",
       "November     55.0       52.0       35.0    67.0    0.0          0.0  156.0   \n",
       "October      47.0        0.0        0.0    69.0    0.0         49.0  188.0   \n",
       "September    70.0        0.0        0.0    64.0   45.0          0.0  163.0   \n",
       "\n",
       "genres     Horror  Thriller  \n",
       "Months                       \n",
       "April        54.0      54.0  \n",
       "August       39.0      60.0  \n",
       "December      0.0      66.0  \n",
       "February      0.0      43.0  \n",
       "January      30.0      48.0  \n",
       "July          0.0      36.0  \n",
       "June          0.0      31.0  \n",
       "March         0.0      47.0  \n",
       "May           0.0      34.0  \n",
       "November      0.0      40.0  \n",
       "October      50.0      65.0  \n",
       "September    50.0      70.0  "
      ]
     },
     "execution_count": 44,
     "metadata": {},
     "output_type": "execute_result"
    }
   ],
   "source": [
    "# Create a pivot table to display only the top_genres_per_month table.\n",
    "pivot_table = top_genres_per_month.pivot(index='Months', columns='genres', values='count').fillna(0)\n",
    "pivot_table"
   ]
  },
  {
   "cell_type": "code",
   "execution_count": 45,
   "metadata": {},
   "outputs": [
    {
     "data": {
      "image/png": "[encoded data removed]",
      "text/plain": [
       "<Figure size 1080x576 with 1 Axes>"
      ]
     },
     "metadata": {
      "needs_background": "light"
     },
     "output_type": "display_data"
    }
   ],
   "source": [
    "#Plot a visualization for the pivot table above\n",
    "pivot_table.plot(kind=\"bar\", figsize=(15, 8), stacked=True)\n",
    "plt.title(\"Stacked Bar Chart of Popular Movie Genres In Each Month\")\n",
    "plt.legend(loc='upper left', bbox_to_anchor=(1, 1))\n",
    "\n",
    "plt.show();"
   ]
  },
  {
   "cell_type": "markdown",
   "metadata": {},
   "source": [
    "**Action genre** films seems to be preferred throughout the year as well as **Drama**, **Thriller** and **Comedy**.\n",
    "\n",
    "**Horror** genres are common during some months like october which can be attributed to seasons like Halloween.\n",
    "\n",
    "The popularity of drama genres over  documentary and adventure is rooted in their broad appeal and entertainment value. As the film industry evolves, understanding these dynamics will be crucial for filmmakers looking to maximize their financial success."
   ]
  },
  {
   "cell_type": "markdown",
   "metadata": {},
   "source": [
    "So what about **critics/audience ratings**? \n",
    "Does **audience satisfaction** affect how well a movie will perform in the box office? Let's see how the quality of a movie affect its profit margins."
   ]
  },
  {
   "cell_type": "code",
   "execution_count": 46,
   "metadata": {},
   "outputs": [
    {
     "data": {
      "text/html": [
       "<div>\n",
       "<style scoped>\n",
       "    .dataframe tbody tr th:only-of-type {\n",
       "        vertical-align: middle;\n",
       "    }\n",
       "\n",
       "    .dataframe tbody tr th {\n",
       "        vertical-align: top;\n",
       "    }\n",
       "\n",
       "    .dataframe thead th {\n",
       "        text-align: right;\n",
       "    }\n",
       "</style>\n",
       "<table border=\"1\" class=\"dataframe\">\n",
       "  <thead>\n",
       "    <tr style=\"text-align: right;\">\n",
       "      <th></th>\n",
       "      <th>averagerating</th>\n",
       "      <th>domestic_gross</th>\n",
       "      <th>worldwide_gross</th>\n",
       "      <th>production_budget</th>\n",
       "      <th>runtime_minutes</th>\n",
       "      <th>numvotes</th>\n",
       "      <th>Profits</th>\n",
       "    </tr>\n",
       "  </thead>\n",
       "  <tbody>\n",
       "    <tr>\n",
       "      <th>0</th>\n",
       "      <td>6.1</td>\n",
       "      <td>760507625.0</td>\n",
       "      <td>2.776345e+09</td>\n",
       "      <td>425000000.0</td>\n",
       "      <td>93.0</td>\n",
       "      <td>43</td>\n",
       "      <td>2,351,345,279.00</td>\n",
       "    </tr>\n",
       "    <tr>\n",
       "      <th>1</th>\n",
       "      <td>6.6</td>\n",
       "      <td>241063875.0</td>\n",
       "      <td>1.045664e+09</td>\n",
       "      <td>410600000.0</td>\n",
       "      <td>136.0</td>\n",
       "      <td>447624</td>\n",
       "      <td>635,063,875.00</td>\n",
       "    </tr>\n",
       "    <tr>\n",
       "      <th>2</th>\n",
       "      <td>6.0</td>\n",
       "      <td>42762350.0</td>\n",
       "      <td>1.497624e+08</td>\n",
       "      <td>350000000.0</td>\n",
       "      <td>113.0</td>\n",
       "      <td>24451</td>\n",
       "      <td>-200,237,650.00</td>\n",
       "    </tr>\n",
       "    <tr>\n",
       "      <th>3</th>\n",
       "      <td>7.3</td>\n",
       "      <td>459005868.0</td>\n",
       "      <td>1.403014e+09</td>\n",
       "      <td>330600000.0</td>\n",
       "      <td>141.0</td>\n",
       "      <td>665594</td>\n",
       "      <td>1,072,413,963.00</td>\n",
       "    </tr>\n",
       "    <tr>\n",
       "      <th>4</th>\n",
       "      <td>8.5</td>\n",
       "      <td>678815482.0</td>\n",
       "      <td>2.048134e+09</td>\n",
       "      <td>300000000.0</td>\n",
       "      <td>149.0</td>\n",
       "      <td>670926</td>\n",
       "      <td>1,748,134,200.00</td>\n",
       "    </tr>\n",
       "  </tbody>\n",
       "</table>\n",
       "</div>"
      ],
      "text/plain": [
       "   averagerating  domestic_gross  worldwide_gross  production_budget  \\\n",
       "0            6.1     760507625.0     2.776345e+09        425000000.0   \n",
       "1            6.6     241063875.0     1.045664e+09        410600000.0   \n",
       "2            6.0      42762350.0     1.497624e+08        350000000.0   \n",
       "3            7.3     459005868.0     1.403014e+09        330600000.0   \n",
       "4            8.5     678815482.0     2.048134e+09        300000000.0   \n",
       "\n",
       "   runtime_minutes  numvotes           Profits  \n",
       "0             93.0        43  2,351,345,279.00  \n",
       "1            136.0    447624    635,063,875.00  \n",
       "2            113.0     24451   -200,237,650.00  \n",
       "3            141.0    665594  1,072,413,963.00  \n",
       "4            149.0    670926  1,748,134,200.00  "
      ]
     },
     "execution_count": 46,
     "metadata": {},
     "output_type": "execute_result"
    }
   ],
   "source": [
    "#Merger the profits_genres_1 with movie_ratings from the database and only select the averagerating, domestic_gross, worldwide_gross,\n",
    "#numvotes,runtime_minutes and Profits columns\n",
    "\n",
    "query = \"\"\"\n",
    "SELECT \n",
    "    averagerating, \n",
    "    domestic_gross, \n",
    "    worldwide_gross,\n",
    "    production_budget,\n",
    "    runtime_minutes,\n",
    "    numvotes,\n",
    "    Profits \n",
    "FROM profits_genres_1\n",
    "JOIN movie_ratings\n",
    "USING (movie_id);\n",
    "\"\"\"\n",
    "DFP_1 = pd.read_sql(query, conn)\n",
    "DFP_1.head()"
   ]
  },
  {
   "cell_type": "code",
   "execution_count": 47,
   "metadata": {},
   "outputs": [],
   "source": [
    "# Change the profits column to float.\n",
    "#Replace the commas with nothing\n",
    "DFP_1.Profits = DFP_1.Profits.astype(str).str.replace(\",\",\"\")\n",
    "DFP_1.Profits = DFP_1.Profits.astype(float)\n"
   ]
  },
  {
   "cell_type": "markdown",
   "metadata": {},
   "source": [
    "Let's create a Histogram showing the performance of movies in different rating ranges."
   ]
  },
  {
   "cell_type": "code",
   "execution_count": 48,
   "metadata": {},
   "outputs": [
    {
     "data": {
      "image/png": "[encoded data removed]",
      "text/plain": [
       "<Figure size 720x432 with 1 Axes>"
      ]
     },
     "metadata": {
      "needs_background": "light"
     },
     "output_type": "display_data"
    }
   ],
   "source": [
    "#Plotting the histogram\n",
    "rating_bins = [0, 2, 4, 6, 8, 10]\n",
    "DFP_1['rating_range'] = pd.cut(DFP_1['averagerating'], bins=rating_bins)\n",
    "\n",
    "# Step 2: Group by 'rating_range' and calculate average profits\n",
    "avg_profit_by_rating = DFP_1.groupby('rating_range')['Profits'].mean().reset_index()\n",
    "plt.figure(figsize=(10, 6))\n",
    "plt.bar(avg_profit_by_rating['rating_range'].astype(str), avg_profit_by_rating['Profits'])\n",
    "plt.xlabel(\"Critics Rating Ranges\")\n",
    "plt.ylabel(\"Average Profit ($100,000,000)\")\n",
    "plt.title(\"Average Profits of Movies by Critics Ratings\")\n",
    "plt.xticks(rotation=45)  # Rotate x-axis labels for better readability\n",
    "plt.show()"
   ]
  },
  {
   "cell_type": "markdown",
   "metadata": {},
   "source": [
    "From the plot, it is clear that movies with ratings between **8 and 10** on IMDB are most profitbale while movies with ratings between **0 and 4** are the least earners.\n",
    "\n",
    "**Higher ratings**,  from audiences or critics, leads to increased profits.  Higher ratings enhance  box office performance due to heightened awareness and interest in the film.\n",
    "\n",
    "On the other hand **Lower ratings**, particularly from critics, can significantly hinder a film's financial success highlighting how crucial positive reviews are for attracting viewers."
   ]
  },
  {
   "cell_type": "markdown",
   "metadata": {},
   "source": [
    "But how significant are these relationships? Let's find this out next and proceed to train a model to help us draw more conclusions/recommendations from the data."
   ]
  },
  {
   "cell_type": "markdown",
   "metadata": {},
   "source": [
    "# MODELLING\n",
    "***"
   ]
  },
  {
   "cell_type": "markdown",
   "metadata": {},
   "source": [
    "We proceeded to calculate the correlation coefficients between the different variables of our dataset to give us an insight on the relationship between the datasets.This further enables us to identify the predictor variables and the dependent variables for our regression model."
   ]
  },
  {
   "cell_type": "code",
   "execution_count": 49,
   "metadata": {},
   "outputs": [
    {
     "data": {
      "text/html": [
       "<div>\n",
       "<style scoped>\n",
       "    .dataframe tbody tr th:only-of-type {\n",
       "        vertical-align: middle;\n",
       "    }\n",
       "\n",
       "    .dataframe tbody tr th {\n",
       "        vertical-align: top;\n",
       "    }\n",
       "\n",
       "    .dataframe thead th {\n",
       "        text-align: right;\n",
       "    }\n",
       "</style>\n",
       "<table border=\"1\" class=\"dataframe\">\n",
       "  <thead>\n",
       "    <tr style=\"text-align: right;\">\n",
       "      <th></th>\n",
       "      <th>averagerating</th>\n",
       "      <th>domestic_gross</th>\n",
       "      <th>worldwide_gross</th>\n",
       "      <th>Profits</th>\n",
       "      <th>numvotes</th>\n",
       "    </tr>\n",
       "  </thead>\n",
       "  <tbody>\n",
       "    <tr>\n",
       "      <th>averagerating</th>\n",
       "      <td>1.000000</td>\n",
       "      <td>0.177163</td>\n",
       "      <td>0.165675</td>\n",
       "      <td>0.162457</td>\n",
       "      <td>0.311527</td>\n",
       "    </tr>\n",
       "    <tr>\n",
       "      <th>domestic_gross</th>\n",
       "      <td>0.177163</td>\n",
       "      <td>1.000000</td>\n",
       "      <td>0.946496</td>\n",
       "      <td>0.937407</td>\n",
       "      <td>0.562929</td>\n",
       "    </tr>\n",
       "    <tr>\n",
       "      <th>worldwide_gross</th>\n",
       "      <td>0.165675</td>\n",
       "      <td>0.946496</td>\n",
       "      <td>1.000000</td>\n",
       "      <td>0.984160</td>\n",
       "      <td>0.560203</td>\n",
       "    </tr>\n",
       "    <tr>\n",
       "      <th>Profits</th>\n",
       "      <td>0.162457</td>\n",
       "      <td>0.937407</td>\n",
       "      <td>0.984160</td>\n",
       "      <td>1.000000</td>\n",
       "      <td>0.533046</td>\n",
       "    </tr>\n",
       "    <tr>\n",
       "      <th>numvotes</th>\n",
       "      <td>0.311527</td>\n",
       "      <td>0.562929</td>\n",
       "      <td>0.560203</td>\n",
       "      <td>0.533046</td>\n",
       "      <td>1.000000</td>\n",
       "    </tr>\n",
       "  </tbody>\n",
       "</table>\n",
       "</div>"
      ],
      "text/plain": [
       "                 averagerating  domestic_gross  worldwide_gross   Profits  \\\n",
       "averagerating         1.000000        0.177163         0.165675  0.162457   \n",
       "domestic_gross        0.177163        1.000000         0.946496  0.937407   \n",
       "worldwide_gross       0.165675        0.946496         1.000000  0.984160   \n",
       "Profits               0.162457        0.937407         0.984160  1.000000   \n",
       "numvotes              0.311527        0.562929         0.560203  0.533046   \n",
       "\n",
       "                 numvotes  \n",
       "averagerating    0.311527  \n",
       "domestic_gross   0.562929  \n",
       "worldwide_gross  0.560203  \n",
       "Profits          0.533046  \n",
       "numvotes         1.000000  "
      ]
     },
     "execution_count": 49,
     "metadata": {},
     "output_type": "execute_result"
    }
   ],
   "source": [
    "# Find the correlation between the average rating and the box office performances i.e the profits and the grosses.\n",
    "correlation_data = DFP_1[['averagerating', 'domestic_gross', 'worldwide_gross', 'Profits', 'numvotes']].corr()\n",
    "correlation_data"
   ]
  },
  {
   "cell_type": "code",
   "execution_count": 50,
   "metadata": {},
   "outputs": [
    {
     "data": {
      "image/png": "[encoded data removed]",
      "text/plain": [
       "<Figure size 576x432 with 2 Axes>"
      ]
     },
     "metadata": {
      "needs_background": "light"
     },
     "output_type": "display_data"
    }
   ],
   "source": [
    "# Plot a heatmap for the correlation table above.\n",
    "#Initialize the figure\n",
    "plt.figure(figsize=(8, 6))\n",
    "#plot the heatmap using th seaborn\n",
    "sns.heatmap(correlation_data, annot=True, cmap='coolwarm', vmin=-1, vmax=1)\n",
    "# indicate the title of the heatmap figure.\n",
    "plt.suptitle('Correlation between Box Office Metrics')\n",
    "plt.show()"
   ]
  },
  {
   "cell_type": "markdown",
   "metadata": {},
   "source": [
    "**The heat map scale ranges**\n",
    "\n",
    "0 - 0.3 weak positive correlation\n",
    "\n",
    "0.3 - 0.5 moderate positive correlation\n",
    "\n",
    "0.5 - 1.0 strong positive correlation\n",
    "\n",
    "From the heatmap and the correlation table, its evident that average rating has a very weak \n",
    "correlation to the box office performance, with \n",
    "correlation values of 0.17, 0.16 and 0.18 respectively. \n",
    "\n",
    "The production_budget shows a strong positive correlation with the box office performance ranging from 0.65 to 0.72.\n",
    "The production budget and the number of votes are moderately correlated, a correlation value of 0.5.\n",
    "However, production budget has a weak positive correlation with the average rating.\n",
    "\n",
    "This imply that while the ratings could influence the box office performance for a movie, other \n",
    "factors could result to its financial success.\n",
    "\n",
    "The number of votes seem to moderately impact the box office performance. It shows that there is the \n",
    "tendency of the box office performance to increase with moderate positive correlation of 0.53 and 0.56. \n",
    "The number of votes has a very weak positive correlation to the average rating with a correlation \n",
    "coeficient of 0.31.\n",
    "\n",
    "The worldwide gross is highly correlated to domestic gross, a correlation value of 0.95. This implies \n",
    "that a movie that performs well in domestic market is likely to perform well in the worldwide market\n",
    "in profits and vise versa.The number of votes has an almost equally insignificant correlation to the\n",
    "average rating as to the box office performance.\n",
    "\n",
    "However, correlation is not always causation. This imply that there are other factors that could influence the correlation.So we can perform regression analysis for more insight\n"
   ]
  },
  {
   "cell_type": "markdown",
   "metadata": {},
   "source": [
    "## Regression Analysis\n",
    "***\n",
    "We can model for:\n",
    " \n",
    "**Dependent variable**; profits, domestic gross and worldwide gross.\n",
    "\n",
    "**Independent variable**; averagerating, production_budgets and number of votes.\n"
   ]
  },
  {
   "cell_type": "code",
   "execution_count": 51,
   "metadata": {},
   "outputs": [
    {
     "data": {
      "image/png": "[encoded data removed]",
      "text/plain": [
       "<Figure size 576x1008 with 3 Axes>"
      ]
     },
     "metadata": {
      "needs_background": "light"
     },
     "output_type": "display_data"
    }
   ],
   "source": [
    "# create a figure and initialize the subplots\n",
    "fig, axs = plt.subplots(3, 1, figsize=(8, 14))\n",
    "#plot the scatterplots for each subplots\n",
    "sns.scatterplot(x='production_budget', y= 'Profits',data=DFP_1, ax = axs[0])\n",
    "axs[0].set_title('Production Budget vs  Overall Profits', color='blue')\n",
    "axs[0].set_xlabel('Production Budget')\n",
    "axs[0].set_ylabel('Profits')\n",
    "#plot the second subplot for the domestic gross\n",
    "sns.scatterplot(x='production_budget', y= 'domestic_gross',data=DFP_1, ax = axs[1])\n",
    "sns.scatterplot(x='production_budget', y='domestic_gross', data=DFP_1, ax=axs[1])\n",
    "axs[1].set_title('Production Budget vs Domestic Gross', color='blue')\n",
    "axs[1].set_xlabel('Production Budget')\n",
    "axs[1].set_ylabel('Domestic Gross')\n",
    "#plot the third subplot for the worldwide gross\n",
    "sns.scatterplot(x='production_budget', y= 'worldwide_gross',data=DFP_1, ax = axs[2])\n",
    "sns.scatterplot(x='production_budget', y='worldwide_gross', data=DFP_1, ax=axs[2])\n",
    "axs[2].set_title('Production Budget vs Worldwide Gross', color='blue')\n",
    "axs[2].set_xlabel('Production Budget')\n",
    "axs[2].set_ylabel('Worldwide Gross')\n",
    "#Adjust the layout of the plots\n",
    "plt.tight_layout()\n",
    "plt.show()\n",
    "\n"
   ]
  },
  {
   "cell_type": "code",
   "execution_count": 52,
   "metadata": {},
   "outputs": [],
   "source": [
    "# Do a regression model using the production budget as independent and the profits as the dependent variable\n",
    "X = DFP_1['production_budget'].values.reshape(-1, 1)\n",
    "y = DFP_1['Profits'].values\n",
    "# Train with 80% of the data and use 20% of the data to test the model\n",
    "Budget_train, Budget_test, Profits_train, Profits_test = train_test_split(X, y, test_size=0.2, random_state=0)"
   ]
  },
  {
   "cell_type": "code",
   "execution_count": 53,
   "metadata": {},
   "outputs": [
    {
     "name": "stdout",
     "output_type": "stream",
     "text": [
      "-13549347.529618785\n",
      "[2.42895419]\n"
     ]
    }
   ],
   "source": [
    " # initializing a method.\n",
    "regressor = LinearRegression()\n",
    "# Train our model\n",
    "regressor.fit(Budget_train, Profits_train)\n",
    "#display the intercept / bias\n",
    "print(regressor.intercept_)\n",
    "#display the coefficient\n",
    "print(regressor.coef_)"
   ]
  },
  {
   "cell_type": "code",
   "execution_count": 54,
   "metadata": {},
   "outputs": [
    {
     "data": {
      "text/html": [
       "<div>\n",
       "<style scoped>\n",
       "    .dataframe tbody tr th:only-of-type {\n",
       "        vertical-align: middle;\n",
       "    }\n",
       "\n",
       "    .dataframe tbody tr th {\n",
       "        vertical-align: top;\n",
       "    }\n",
       "\n",
       "    .dataframe thead th {\n",
       "        text-align: right;\n",
       "    }\n",
       "</style>\n",
       "<table border=\"1\" class=\"dataframe\">\n",
       "  <thead>\n",
       "    <tr style=\"text-align: right;\">\n",
       "      <th></th>\n",
       "      <th>Actual</th>\n",
       "      <th>Predicted</th>\n",
       "    </tr>\n",
       "  </thead>\n",
       "  <tbody>\n",
       "    <tr>\n",
       "      <th>count</th>\n",
       "      <td>5.750000e+02</td>\n",
       "      <td>5.750000e+02</td>\n",
       "    </tr>\n",
       "    <tr>\n",
       "      <th>mean</th>\n",
       "      <td>3.438013e+07</td>\n",
       "      <td>6.995841e+07</td>\n",
       "    </tr>\n",
       "    <tr>\n",
       "      <th>std</th>\n",
       "      <td>4.606250e+07</td>\n",
       "      <td>1.118837e+08</td>\n",
       "    </tr>\n",
       "    <tr>\n",
       "      <th>min</th>\n",
       "      <td>1.400000e+03</td>\n",
       "      <td>-1.354595e+07</td>\n",
       "    </tr>\n",
       "    <tr>\n",
       "      <th>25%</th>\n",
       "      <td>5.000000e+06</td>\n",
       "      <td>-1.404577e+06</td>\n",
       "    </tr>\n",
       "    <tr>\n",
       "      <th>50%</th>\n",
       "      <td>1.800000e+07</td>\n",
       "      <td>3.017183e+07</td>\n",
       "    </tr>\n",
       "    <tr>\n",
       "      <th>75%</th>\n",
       "      <td>4.400000e+07</td>\n",
       "      <td>9.332464e+07</td>\n",
       "    </tr>\n",
       "    <tr>\n",
       "      <th>max</th>\n",
       "      <td>2.750000e+08</td>\n",
       "      <td>6.544131e+08</td>\n",
       "    </tr>\n",
       "  </tbody>\n",
       "</table>\n",
       "</div>"
      ],
      "text/plain": [
       "             Actual     Predicted\n",
       "count  5.750000e+02  5.750000e+02\n",
       "mean   3.438013e+07  6.995841e+07\n",
       "std    4.606250e+07  1.118837e+08\n",
       "min    1.400000e+03 -1.354595e+07\n",
       "25%    5.000000e+06 -1.404577e+06\n",
       "50%    1.800000e+07  3.017183e+07\n",
       "75%    4.400000e+07  9.332464e+07\n",
       "max    2.750000e+08  6.544131e+08"
      ]
     },
     "execution_count": 54,
     "metadata": {},
     "output_type": "execute_result"
    }
   ],
   "source": [
    "#\n",
    "Profits_predict = regressor.predict(Budget_test)\n",
    "# Use the .flatten  method to convert the data to a 1 dimensional array.\n",
    "comparison_frame = pd.DataFrame({'Actual': Budget_test.flatten(), 'Predicted': Profits_predict.flatten()})\n",
    "# Display both actual and predicted values of the model.\n",
    "comparison_frame.describe()"
   ]
  },
  {
   "cell_type": "code",
   "execution_count": 55,
   "metadata": {},
   "outputs": [
    {
     "data": {
      "image/png": "[encoded data removed]",
      "text/plain": [
       "<Figure size 720x432 with 1 Axes>"
      ]
     },
     "metadata": {
      "needs_background": "light"
     },
     "output_type": "display_data"
    }
   ],
   "source": [
    "# Plot the model. \n",
    "plt.figure(figsize=(10, 6))\n",
    "# First do the scatter plot for the test values.\n",
    "plt.scatter(Budget_test, Profits_test, color='black')\n",
    "# plot the regrssion line for the test value and the predicted value.\n",
    "plt.plot(Budget_test, Profits_predict, color='red', linewidth=2)\n",
    "# label the plot, add a title and axes.\n",
    "plt.title('Budget vs Profits Model', fontsize=16, color = 'blue')\n",
    "plt.xlabel('Budget', fontsize=14)\n",
    "plt.ylabel('Profits', fontsize=14)\n",
    "plt.show();"
   ]
  },
  {
   "cell_type": "markdown",
   "metadata": {},
   "source": [
    "The above regression model has a positive coefficient of 2.4, which confirms the positive correlation between the production\n",
    "budget and the profits at the box office.The regression model shows that as production budget value increases, the amount of profits performance at the box office is expected to increase. The coefficient value of 2.4 indicates the amounts of change in the profits for unit change in production budget."
   ]
  },
  {
   "cell_type": "code",
   "execution_count": 56,
   "metadata": {},
   "outputs": [],
   "source": [
    "# Relationship between  the domestic gross and the worldwide gross.\n",
    "X = DFP_1['production_budget'].values.reshape(-1, 1)\n",
    "y = DFP_1['worldwide_gross'].values\n",
    "\n",
    "production_train, production_test, Worldwide_train, Worldwide_test  = train_test_split(X, y, test_size=0.2, random_state=0)"
   ]
  },
  {
   "cell_type": "code",
   "execution_count": 57,
   "metadata": {},
   "outputs": [
    {
     "name": "stdout",
     "output_type": "stream",
     "text": [
      "-13549347.52961883\n",
      "[3.42895419]\n"
     ]
    }
   ],
   "source": [
    "# initializing a method.\n",
    "regressor = LinearRegression()\n",
    "# Train our model\n",
    "regressor.fit(production_train, Worldwide_train)\n",
    "#display the intercept / bias\n",
    "print(regressor.intercept_)\n",
    "#display the coefficient\n",
    "print(regressor.coef_)"
   ]
  },
  {
   "cell_type": "code",
   "execution_count": 58,
   "metadata": {},
   "outputs": [
    {
     "data": {
      "text/html": [
       "<div>\n",
       "<style scoped>\n",
       "    .dataframe tbody tr th:only-of-type {\n",
       "        vertical-align: middle;\n",
       "    }\n",
       "\n",
       "    .dataframe tbody tr th {\n",
       "        vertical-align: top;\n",
       "    }\n",
       "\n",
       "    .dataframe thead th {\n",
       "        text-align: right;\n",
       "    }\n",
       "</style>\n",
       "<table border=\"1\" class=\"dataframe\">\n",
       "  <thead>\n",
       "    <tr style=\"text-align: right;\">\n",
       "      <th></th>\n",
       "      <th>Actual</th>\n",
       "      <th>Predicted</th>\n",
       "    </tr>\n",
       "  </thead>\n",
       "  <tbody>\n",
       "    <tr>\n",
       "      <th>count</th>\n",
       "      <td>5.750000e+02</td>\n",
       "      <td>5.750000e+02</td>\n",
       "    </tr>\n",
       "    <tr>\n",
       "      <th>mean</th>\n",
       "      <td>3.438013e+07</td>\n",
       "      <td>1.043385e+08</td>\n",
       "    </tr>\n",
       "    <tr>\n",
       "      <th>std</th>\n",
       "      <td>4.606250e+07</td>\n",
       "      <td>1.579462e+08</td>\n",
       "    </tr>\n",
       "    <tr>\n",
       "      <th>min</th>\n",
       "      <td>1.400000e+03</td>\n",
       "      <td>-1.354455e+07</td>\n",
       "    </tr>\n",
       "    <tr>\n",
       "      <th>25%</th>\n",
       "      <td>5.000000e+06</td>\n",
       "      <td>3.595423e+06</td>\n",
       "    </tr>\n",
       "    <tr>\n",
       "      <th>50%</th>\n",
       "      <td>1.800000e+07</td>\n",
       "      <td>4.817183e+07</td>\n",
       "    </tr>\n",
       "    <tr>\n",
       "      <th>75%</th>\n",
       "      <td>4.400000e+07</td>\n",
       "      <td>1.373246e+08</td>\n",
       "    </tr>\n",
       "    <tr>\n",
       "      <th>max</th>\n",
       "      <td>2.750000e+08</td>\n",
       "      <td>9.294131e+08</td>\n",
       "    </tr>\n",
       "  </tbody>\n",
       "</table>\n",
       "</div>"
      ],
      "text/plain": [
       "             Actual     Predicted\n",
       "count  5.750000e+02  5.750000e+02\n",
       "mean   3.438013e+07  1.043385e+08\n",
       "std    4.606250e+07  1.579462e+08\n",
       "min    1.400000e+03 -1.354455e+07\n",
       "25%    5.000000e+06  3.595423e+06\n",
       "50%    1.800000e+07  4.817183e+07\n",
       "75%    4.400000e+07  1.373246e+08\n",
       "max    2.750000e+08  9.294131e+08"
      ]
     },
     "execution_count": 58,
     "metadata": {},
     "output_type": "execute_result"
    }
   ],
   "source": [
    "Worldwide_predict = regressor.predict(production_test)\n",
    "\n",
    "# Use the .flatten  method to convert the data to a 1 dimensional array\n",
    "comparison_frame = pd.DataFrame({'Actual':production_test.flatten(), 'Predicted': Worldwide_predict.flatten()})\n",
    "comparison_frame.describe()"
   ]
  },
  {
   "cell_type": "code",
   "execution_count": 59,
   "metadata": {},
   "outputs": [
    {
     "data": {
      "image/png": "[encoded data removed]",
      "text/plain": [
       "<Figure size 720x432 with 1 Axes>"
      ]
     },
     "metadata": {
      "needs_background": "light"
     },
     "output_type": "display_data"
    }
   ],
   "source": [
    "#Plot the model\n",
    "plt.figure(figsize=(10, 6))\n",
    "# First do the scatter plot for the test values.\n",
    "plt.scatter(production_test, Worldwide_test, color='black', label = 'Actual values')\n",
    "# plot the regression line for the test value and the predicted value.\n",
    "plt.plot(production_test, Worldwide_predict, color='red', linewidth=2, label='Predicted Values')\n",
    "# label the plot, add a title and axes.\n",
    "plt.title('Production vs Worldwide Model', fontsize=16, color = 'blue')\n",
    "plt.xlabel('Production_gross', fontsize=14)\n",
    "plt.ylabel('Worldwide gross', fontsize=14)\n",
    "plt.show();"
   ]
  },
  {
   "cell_type": "markdown",
   "metadata": {},
   "source": [
    "Similarly, the model for production budget and the world wide gross shows the strong positive correlation.\n",
    "From modelling, the coefficient of 3.4 shows the change in the worldwide gross at the box office for every \n",
    "unit change in production budget, it also confirms the strong correlation from the heatmap."
   ]
  },
  {
   "cell_type": "code",
   "execution_count": 60,
   "metadata": {},
   "outputs": [],
   "source": [
    "# Relationship between  the domestic gross and the worldwide gross.\n",
    "X = DFP_1['domestic_gross'].values.reshape(-1, 1)\n",
    "y = DFP_1['worldwide_gross'].values\n",
    "\n",
    "domestic_train, domestic_test, Worldwide_train, Worldwide_test  = train_test_split(X, y, test_size=0.2, random_state=0)"
   ]
  },
  {
   "cell_type": "code",
   "execution_count": 61,
   "metadata": {},
   "outputs": [
    {
     "name": "stdout",
     "output_type": "stream",
     "text": [
      "-9178318.321314663\n",
      "[2.60557053]\n"
     ]
    }
   ],
   "source": [
    "# initializing a method.\n",
    "regressor = LinearRegression()\n",
    "# Train our model\n",
    "regressor.fit(domestic_train, Worldwide_train)\n",
    "#display the intercept / bias\n",
    "print(regressor.intercept_)\n",
    "#display the coefficient\n",
    "print(regressor.coef_)"
   ]
  },
  {
   "cell_type": "code",
   "execution_count": 62,
   "metadata": {},
   "outputs": [
    {
     "data": {
      "text/html": [
       "<div>\n",
       "<style scoped>\n",
       "    .dataframe tbody tr th:only-of-type {\n",
       "        vertical-align: middle;\n",
       "    }\n",
       "\n",
       "    .dataframe tbody tr th {\n",
       "        vertical-align: top;\n",
       "    }\n",
       "\n",
       "    .dataframe thead th {\n",
       "        text-align: right;\n",
       "    }\n",
       "</style>\n",
       "<table border=\"1\" class=\"dataframe\">\n",
       "  <thead>\n",
       "    <tr style=\"text-align: right;\">\n",
       "      <th></th>\n",
       "      <th>Actual</th>\n",
       "      <th>Predicted</th>\n",
       "    </tr>\n",
       "  </thead>\n",
       "  <tbody>\n",
       "    <tr>\n",
       "      <th>count</th>\n",
       "      <td>5.750000e+02</td>\n",
       "      <td>5.750000e+02</td>\n",
       "    </tr>\n",
       "    <tr>\n",
       "      <th>mean</th>\n",
       "      <td>4.098188e+07</td>\n",
       "      <td>9.760285e+07</td>\n",
       "    </tr>\n",
       "    <tr>\n",
       "      <th>std</th>\n",
       "      <td>6.651357e+07</td>\n",
       "      <td>1.733058e+08</td>\n",
       "    </tr>\n",
       "    <tr>\n",
       "      <th>min</th>\n",
       "      <td>0.000000e+00</td>\n",
       "      <td>-9.178318e+06</td>\n",
       "    </tr>\n",
       "    <tr>\n",
       "      <th>25%</th>\n",
       "      <td>3.569730e+05</td>\n",
       "      <td>-8.248200e+06</td>\n",
       "    </tr>\n",
       "    <tr>\n",
       "      <th>50%</th>\n",
       "      <td>1.609900e+07</td>\n",
       "      <td>3.276876e+07</td>\n",
       "    </tr>\n",
       "    <tr>\n",
       "      <th>75%</th>\n",
       "      <td>5.358145e+07</td>\n",
       "      <td>1.304319e+08</td>\n",
       "    </tr>\n",
       "    <tr>\n",
       "      <th>max</th>\n",
       "      <td>6.085817e+08</td>\n",
       "      <td>1.576524e+09</td>\n",
       "    </tr>\n",
       "  </tbody>\n",
       "</table>\n",
       "</div>"
      ],
      "text/plain": [
       "             Actual     Predicted\n",
       "count  5.750000e+02  5.750000e+02\n",
       "mean   4.098188e+07  9.760285e+07\n",
       "std    6.651357e+07  1.733058e+08\n",
       "min    0.000000e+00 -9.178318e+06\n",
       "25%    3.569730e+05 -8.248200e+06\n",
       "50%    1.609900e+07  3.276876e+07\n",
       "75%    5.358145e+07  1.304319e+08\n",
       "max    6.085817e+08  1.576524e+09"
      ]
     },
     "execution_count": 62,
     "metadata": {},
     "output_type": "execute_result"
    }
   ],
   "source": [
    "Worldwide_predict = regressor.predict(domestic_test)\n",
    "\n",
    "# Use the .flatten  method to convert the data to a 1 dimensional array\n",
    "comparison_frame = pd.DataFrame({'Actual': domestic_test.flatten(), 'Predicted': Worldwide_predict.flatten()})\n",
    "comparison_frame.describe()"
   ]
  },
  {
   "cell_type": "code",
   "execution_count": 63,
   "metadata": {},
   "outputs": [
    {
     "data": {
      "image/png": "[encoded data removed]",
      "text/plain": [
       "<Figure size 720x432 with 1 Axes>"
      ]
     },
     "metadata": {
      "needs_background": "light"
     },
     "output_type": "display_data"
    }
   ],
   "source": [
    "#Plot the model\n",
    "plt.figure(figsize=(10, 6))\n",
    "# First do the scatter plot for the test values.\n",
    "plt.scatter(domestic_test, Worldwide_test, color='black', label = 'Actual values')\n",
    "# plot the regression line for the test value and the predicted value.\n",
    "plt.plot(domestic_test, Worldwide_predict, color='red', linewidth=2, label='Predicted Values')\n",
    "# label the plot, add a title and axes.\n",
    "plt.title('Domestic vs Worldwide Model', fontsize=16, color = 'blue')\n",
    "plt.xlabel('Domestic gross', fontsize=14)\n",
    "plt.ylabel('Worldwide gross', fontsize=14)\n",
    "plt.show();"
   ]
  },
  {
   "cell_type": "markdown",
   "metadata": {},
   "source": [
    "The regression model for domestic and worldwide gross confirms their high positive correlation. The \n",
    "regression model has a coefficient of 2.6 which determines the amount of chnage for the worldwide gross for unit change in the \n",
    "domestic gross. Overally, the above plot, shows that a movie\n",
    "performance's,domestic gross, is directly proportional to the worldwide gross.\n"
   ]
  },
  {
   "cell_type": "markdown",
   "metadata": {},
   "source": [
    "# RECOMMENDATIONS\n",
    "***"
   ]
  },
  {
   "cell_type": "markdown",
   "metadata": {},
   "source": [
    "* The studio should concentrate on the genres that do the best, which include **action, sci-fi, fantasy, musicals, adventure, and animation**. It's critical to acknowledge that the production expenditures of these genres are typically higher. Studios can increase their profitability by focusing on adventure and animation films, putting less focus on reality TV while also exploring dramas.\n",
    "\n",
    "\n",
    "* Prioritize Releases During Peak Periods (May to July and Holiday Season):\n",
    "To optimize box office success, focus on releasing high-budget or anticipated films during peak seasons **May to July (summer blockbusters) and November to December (holiday season)**. The consistent profitability of films released during these months suggests that these are ideal times for maximum audience engagement, especially for adventure and family-oriented genres like Animation.Careful consideration should be given to January and September, which typically see audience declines; studios may choose to release lower-budget or niche films during these times.\n",
    "\n",
    "\n",
    "* The studio should prioritize investments in **English** and **Telugu** films, as they attract broad audiences and yield higher profits. In contrast, **Turkish** films often struggle with smaller regional audiences and limited international appeal, resulting in lower profitability and potentially requiring a more targeted strategy."
   ]
  },
  {
   "cell_type": "markdown",
   "metadata": {},
   "source": [
    "# FUTURE IMPROVEMENTS\n",
    "***"
   ]
  },
  {
   "cell_type": "markdown",
   "metadata": {},
   "source": [
    "* Assessing the relationship between box office performance and production quality across various film genres can reveal important information about what influences profitability and audience engagement. Analyze for special effects such as the sound effects, production locations, video quality, artist and characters.\n",
    "\n",
    "\n",
    "* Analyzing how well studios turn their financial investments into box office earnings is part of researching the return on investment (ROI) for various film genres. This is of significance in analyzing how high the profits are for a given genre.For example, while genres like Adventure and Animation may have high production budgets, their consistently strong box office performance can result in high ROIs, making them lucrative investments meanwhile  genres like Drama might be less costly to produce but may not yield much"
   ]
  }
 ],
 "metadata": {
  "kernelspec": {
   "display_name": "Python (learn-env)",
   "language": "python",
   "name": "learn-env"
  },
  "language_info": {
   "codemirror_mode": {
    "name": "ipython",
    "version": 3
   },
   "file_extension": ".py",
   "mimetype": "text/x-python",
   "name": "python",
   "nbconvert_exporter": "python",
   "pygments_lexer": "ipython3",
   "version": "3.8.5"
  }
 },
 "nbformat": 4,
 "nbformat_minor": 4
}
